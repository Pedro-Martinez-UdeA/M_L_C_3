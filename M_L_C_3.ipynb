{
  "nbformat": 4,
  "nbformat_minor": 5,
  "metadata": {
    "celltoolbar": "Slideshow",
    "kernelspec": {
      "display_name": "Python 3",
      "language": "python",
      "name": "python3"
    },
    "language_info": {
      "codemirror_mode": {
        "name": "ipython",
        "version": 3
      },
      "file_extension": ".py",
      "mimetype": "text/x-python",
      "name": "python",
      "nbconvert_exporter": "python",
      "pygments_lexer": "ipython3",
      "version": "3.8.8"
    },
    "latex_envs": {
      "LaTeX_envs_menu_present": true,
      "autoclose": false,
      "autocomplete": false,
      "bibliofile": "biblio.bib",
      "cite_by": "apalike",
      "current_citInitial": 1,
      "eqLabelWithNumbers": true,
      "eqNumInitial": 1,
      "hotkeys": {
        "equation": "Ctrl-E",
        "itemize": "Ctrl-I"
      },
      "labels_anchors": false,
      "latex_user_defs": false,
      "report_style_numbering": false,
      "user_envs_cfg": false
    },
    "rise": {
      "enable_chalkboard": true,
      "theme": "sky",
      "transition": "sky"
    },
    "colab": {
      "name": "M_L_C_3.ipynb",
      "provenance": [],
      "include_colab_link": true
    }
  },
  "cells": [
    {
      "cell_type": "markdown",
      "metadata": {
        "id": "view-in-github",
        "colab_type": "text"
      },
      "source": [
        "<a href=\"https://colab.research.google.com/github/Pedro-Martinez-UdeA/M_L_C_3/blob/main/M_L_C_3.ipynb\" target=\"_parent\"><img src=\"https://colab.research.google.com/assets/colab-badge.svg\" alt=\"Open In Colab\"/></a>"
      ]
    },
    {
      "cell_type": "markdown",
      "metadata": {
        "id": "002067e4"
      },
      "source": [
        "<table align=\"left\">\n",
        "  <td>\n",
        "    <a href=\"https://colab.research.google.com/github/marco-canas/taca/blob/main/ref/geron/chap_2/5_prepare_for_algorithms/1_prepare_for_algorithms.ipynb\" target=\"_parent\"><img src=\"https://colab.research.google.com/assets/colab-badge.svg\" alt=\"Open In Colab\"/></a>\n",
        "  </td>\n",
        "  <td>\n",
        "    <a target=\"_blank\" href=\"https://kaggle.com/kernels/welcome?src=https://github.com/marco-canas/taca/blob/main/ref/geron/chap_2/5_prepare_for_algorithms/1_prepare_for_algorithms.ipynb\"><img src=\"https://kaggle.com/static/images/open-in-kaggle.svg\" /></a>\n",
        "  </td>\n",
        "</table> "
      ],
      "id": "002067e4"
    },
    {
      "cell_type": "markdown",
      "metadata": {
        "id": "8ea075bb"
      },
      "source": [
        "# Clase 3 "
      ],
      "id": "8ea075bb"
    },
    {
      "cell_type": "markdown",
      "metadata": {
        "id": "3d303bcd"
      },
      "source": [
        "# Capítulo 5\n",
        "## Funciones productivas"
      ],
      "id": "3d303bcd"
    },
    {
      "cell_type": "markdown",
      "metadata": {
        "id": "d4aaf02e"
      },
      "source": [
        "## 5.1. Valores de retorno"
      ],
      "id": "d4aaf02e"
    },
    {
      "cell_type": "markdown",
      "metadata": {
        "id": "504c6e7e"
      },
      "source": [
        "## [Video de apoyo sobre valores de retorno]()"
      ],
      "id": "504c6e7e"
    },
    {
      "cell_type": "markdown",
      "metadata": {
        "id": "ac6e1f60"
      },
      "source": [
        "Algunas de las funciones internas que hemos usado, como las funciones `math` o funciones matemáaticas, han producido resultados. "
      ],
      "id": "ac6e1f60"
    },
    {
      "cell_type": "markdown",
      "metadata": {
        "id": "fe77840a"
      },
      "source": [
        "Llamar a la función genera un nuevo valor, que normalmente asignamos a una variable pasa usar como parte de una expresión."
      ],
      "id": "fe77840a"
    },
    {
      "cell_type": "code",
      "metadata": {
        "id": "86aeb9ba"
      },
      "source": [
        "import math"
      ],
      "id": "86aeb9ba",
      "execution_count": null,
      "outputs": []
    },
    {
      "cell_type": "code",
      "metadata": {
        "scrolled": true,
        "id": "f3f63624"
      },
      "source": [
        "dir(math)"
      ],
      "id": "f3f63624",
      "execution_count": null,
      "outputs": []
    },
    {
      "cell_type": "code",
      "metadata": {
        "id": "656ddbf7"
      },
      "source": [
        "e = math.exp(1)\n",
        "e "
      ],
      "id": "656ddbf7",
      "execution_count": null,
      "outputs": []
    },
    {
      "cell_type": "code",
      "metadata": {
        "id": "3b905eff"
      },
      "source": [
        "e = math.exp(1.0)\n",
        "e "
      ],
      "id": "3b905eff",
      "execution_count": null,
      "outputs": []
    },
    {
      "cell_type": "code",
      "metadata": {
        "id": "82cb1ddd"
      },
      "source": [
        "math.pi"
      ],
      "id": "82cb1ddd",
      "execution_count": null,
      "outputs": []
    },
    {
      "cell_type": "code",
      "metadata": {
        "id": "bdc3636a"
      },
      "source": [
        "angulo = math.pi/2"
      ],
      "id": "bdc3636a",
      "execution_count": null,
      "outputs": []
    },
    {
      "cell_type": "code",
      "metadata": {
        "id": "45c0dc9e"
      },
      "source": [
        "radio = 1 \n",
        "print(round(angulo,2),' ', radio)"
      ],
      "id": "45c0dc9e",
      "execution_count": null,
      "outputs": []
    },
    {
      "cell_type": "code",
      "metadata": {
        "id": "76adfc04"
      },
      "source": [
        "altura = radio * math.sin(angulo)\n",
        "altura "
      ],
      "id": "76adfc04",
      "execution_count": null,
      "outputs": []
    },
    {
      "cell_type": "code",
      "metadata": {
        "id": "681831bd"
      },
      "source": [
        "math.sqrt(2)"
      ],
      "id": "681831bd",
      "execution_count": null,
      "outputs": []
    },
    {
      "cell_type": "markdown",
      "metadata": {
        "id": "60bd89a9"
      },
      "source": [
        "### Funciones productivas o que devuelven algún valor "
      ],
      "id": "60bd89a9"
    },
    {
      "cell_type": "markdown",
      "metadata": {
        "id": "3d4cac95"
      },
      "source": [
        "El primer ejemplo es área, que devuelve el área de un círculo con un radio dado:"
      ],
      "id": "3d4cac95"
    },
    {
      "cell_type": "code",
      "metadata": {
        "id": "84c5eaa4"
      },
      "source": [
        "def nueva_linea():\n",
        "    print() "
      ],
      "id": "84c5eaa4",
      "execution_count": null,
      "outputs": []
    },
    {
      "cell_type": "code",
      "metadata": {
        "id": "d300c01c"
      },
      "source": [
        "print('primera línea')\n",
        "nueva_linea()\n",
        "print('segunda línea')\n"
      ],
      "id": "d300c01c",
      "execution_count": null,
      "outputs": []
    },
    {
      "cell_type": "code",
      "metadata": {
        "id": "52a03815"
      },
      "source": [
        "import math as m "
      ],
      "id": "52a03815",
      "execution_count": null,
      "outputs": []
    },
    {
      "cell_type": "code",
      "metadata": {
        "id": "dfe6c627"
      },
      "source": [
        "def area_circulo(radio):\n",
        "    temporal = math.pi * radio**2\n",
        "    return temporal"
      ],
      "id": "dfe6c627",
      "execution_count": null,
      "outputs": []
    },
    {
      "cell_type": "code",
      "metadata": {
        "id": "b9d226f1"
      },
      "source": [
        "area_circulo(1)"
      ],
      "id": "b9d226f1",
      "execution_count": null,
      "outputs": []
    },
    {
      "cell_type": "markdown",
      "metadata": {
        "id": "bc1a0745"
      },
      "source": [
        "Ya hemos visto antes la sentencia `return`, pero en una función productiva la sentencia `return` incluye un valor de retorno. "
      ],
      "id": "bc1a0745"
    },
    {
      "cell_type": "markdown",
      "metadata": {
        "id": "03a08e28"
      },
      "source": [
        "Esta sentencia quiere decir “retorna inmediatamente de la función y usa la siguiente expresión como valor de retorno”. "
      ],
      "id": "03a08e28"
    },
    {
      "cell_type": "markdown",
      "metadata": {
        "id": "f66f12ad"
      },
      "source": [
        "La expresión dada puede ser arbitrariamente complicada; así pues, podríamos haber escrito esta función más concisamente:"
      ],
      "id": "f66f12ad"
    },
    {
      "cell_type": "code",
      "metadata": {
        "id": "80cc833f"
      },
      "source": [
        "import math as m\n",
        "\n",
        "def area_circulo_2(radio):\n",
        "    return m.pi*radio**2"
      ],
      "id": "80cc833f",
      "execution_count": null,
      "outputs": []
    },
    {
      "cell_type": "code",
      "metadata": {
        "id": "f0cdcea1"
      },
      "source": [
        "area_circulo_2(1)"
      ],
      "id": "f0cdcea1",
      "execution_count": null,
      "outputs": []
    },
    {
      "cell_type": "code",
      "metadata": {
        "id": "8914f0dd"
      },
      "source": [
        "def valorAbsoluto(x):\n",
        "    if x < 0:\n",
        "        return -x\n",
        "    else:\n",
        "        return x"
      ],
      "id": "8914f0dd",
      "execution_count": null,
      "outputs": []
    },
    {
      "cell_type": "code",
      "metadata": {
        "id": "265511f8"
      },
      "source": [
        "valorAbsoluto(0)"
      ],
      "id": "265511f8",
      "execution_count": null,
      "outputs": []
    },
    {
      "cell_type": "markdown",
      "metadata": {
        "id": "b63908c2"
      },
      "source": [
        "Puesto que estas sentencias `return` están en una condición alternativa, sólo se ejecutará una de ellas. "
      ],
      "id": "b63908c2"
    },
    {
      "cell_type": "markdown",
      "metadata": {
        "id": "13538523"
      },
      "source": [
        "En cuanto se ejecuta una de ellas, la función termina sin ejecutar ninguna de las sentencias siguientes."
      ],
      "id": "13538523"
    },
    {
      "cell_type": "markdown",
      "metadata": {
        "id": "076964fb"
      },
      "source": [
        "El código que aparece después de una sentencia `return` o en cualquier otro lugar donde el flujo de ejecución no pueda llegar, recibe el nombre de código muerto."
      ],
      "id": "076964fb"
    },
    {
      "cell_type": "markdown",
      "metadata": {
        "id": "5d126380"
      },
      "source": [
        "En una función productiva es una buena idea asegurarse de que cualquier posible recorrido del programa alcanza una sentencia `return`. "
      ],
      "id": "5d126380"
    },
    {
      "cell_type": "markdown",
      "metadata": {
        "id": "e05beff7"
      },
      "source": [
        "Por ejemplo:"
      ],
      "id": "e05beff7"
    },
    {
      "cell_type": "code",
      "metadata": {
        "id": "f020b7d3"
      },
      "source": [
        "def valorAbsoluto(x):\n",
        "    if x < 0:\n",
        "        return -x\n",
        "    elif x > 0:\n",
        "        return x"
      ],
      "id": "f020b7d3",
      "execution_count": null,
      "outputs": []
    },
    {
      "cell_type": "markdown",
      "metadata": {
        "id": "d9efd074"
      },
      "source": [
        "**Ojo**  \n",
        "Este programa no es correcto porque si resulta que `x` vale `0`, entonces no se cumple ninguna de ambas condiciones y la función termina sin alcanzar la setencia return. "
      ],
      "id": "d9efd074"
    },
    {
      "cell_type": "markdown",
      "metadata": {
        "id": "88df2b36"
      },
      "source": [
        "En este caso, el valor de retorno es un valor especial llamado None:"
      ],
      "id": "88df2b36"
    },
    {
      "cell_type": "code",
      "metadata": {
        "id": "1b899ed6"
      },
      "source": [
        "print(valorAbsoluto(0)) "
      ],
      "id": "1b899ed6",
      "execution_count": null,
      "outputs": []
    },
    {
      "cell_type": "markdown",
      "metadata": {
        "id": "f4bb4ab9"
      },
      "source": [
        "Como actividad, escriba una función comparar que devuelva `1` si `x > y` , `0` si `x == y` , y `-1` si `x < y` ."
      ],
      "id": "f4bb4ab9"
    },
    {
      "cell_type": "markdown",
      "metadata": {
        "id": "d0a914e7"
      },
      "source": [
        "## 5.2. Desarrollo de programas"
      ],
      "id": "d0a914e7"
    },
    {
      "cell_type": "markdown",
      "metadata": {
        "id": "ff1c9da0"
      },
      "source": [
        "## [Video de apoyo al desarrollo de programas en Python]() "
      ],
      "id": "ff1c9da0"
    },
    {
      "cell_type": "markdown",
      "metadata": {
        "id": "eff6c669"
      },
      "source": [
        "Llegados a este punto, tendr´ıa que poder mirar a funciones Python completas y adivinar qué hacen."
      ],
      "id": "eff6c669"
    },
    {
      "cell_type": "markdown",
      "metadata": {
        "id": "651ea6f2"
      },
      "source": [
        "Con la práctica de escritura de funciones puede ir mejorando \n",
        "\n",
        "* los errores en tiempo de ejecución y \n",
        "* los errores semánticos."
      ],
      "id": "651ea6f2"
    },
    {
      "cell_type": "markdown",
      "metadata": {
        "id": "bba1a1bd"
      },
      "source": [
        "Para lidiar con programas de complejidad creciente, vamos a sugerirle una técnica que llamaremos desarrollo incremental. "
      ],
      "id": "bba1a1bd"
    },
    {
      "cell_type": "markdown",
      "metadata": {
        "id": "d4e31e48"
      },
      "source": [
        "El objetivo del desarrollo incremental es sustituir largas sesiones de depuración por la adición y prueba de pequeñas porciones de código en cada vez."
      ],
      "id": "d4e31e48"
    },
    {
      "cell_type": "markdown",
      "metadata": {
        "id": "7bc9a36b"
      },
      "source": [
        "Por ejemplo, supongamos que desea encontrar la distancia entre dos puntos, dados por las coordenadas $(x_{1}, y_{1})$ y $(x_{2}, y_{2})$. "
      ],
      "id": "7bc9a36b"
    },
    {
      "cell_type": "markdown",
      "metadata": {
        "id": "5ff28096"
      },
      "source": [
        "Por el teorema de Pitágoras, podemos escribir la distancia es:\n",
        "\n",
        "$$ \\text{distancia} = \\sqrt{(x_{2} − x_{1})^{2} + (y_{2} − y_{1})^{2} } \\nonumber $$"
      ],
      "id": "5ff28096"
    },
    {
      "cell_type": "markdown",
      "metadata": {
        "id": "a7242a67"
      },
      "source": [
        "El primer paso es considerar qué aspecto tendría una función distancia en Python. "
      ],
      "id": "a7242a67"
    },
    {
      "cell_type": "markdown",
      "metadata": {
        "id": "a647b8c9"
      },
      "source": [
        "En otras palabras, ¿cuáles son las entradas (parámetros) y cuál es la salida (valor de retorno)?"
      ],
      "id": "a647b8c9"
    },
    {
      "cell_type": "markdown",
      "metadata": {
        "id": "9414d619"
      },
      "source": [
        "En este caso, los dos puntos son los parámetros, que podemos representar usando cuatro parámetros. "
      ],
      "id": "9414d619"
    },
    {
      "cell_type": "markdown",
      "metadata": {
        "id": "75cdb7c8"
      },
      "source": [
        "El valor de retorno es la distancia, que es un valor en coma flotante."
      ],
      "id": "75cdb7c8"
    },
    {
      "cell_type": "markdown",
      "metadata": {
        "id": "a49b6ef3"
      },
      "source": [
        "Ya podemos escribir un bosquejo de la función:"
      ],
      "id": "a49b6ef3"
    },
    {
      "cell_type": "code",
      "metadata": {
        "id": "c760cc65"
      },
      "source": [
        "def distancia(x1, y1, x2, y2):\n",
        "    return 0.0"
      ],
      "id": "c760cc65",
      "execution_count": null,
      "outputs": []
    },
    {
      "cell_type": "markdown",
      "metadata": {
        "id": "d4357fd1"
      },
      "source": [
        "Obviamente, la función no calcula distancias; siempre devuelve cero. "
      ],
      "id": "d4357fd1"
    },
    {
      "cell_type": "markdown",
      "metadata": {
        "id": "840fc121"
      },
      "source": [
        "Pero es sintácticamente correcta y se ejecutará, lo que significa que podemos probarla antes de complicarla más."
      ],
      "id": "840fc121"
    },
    {
      "cell_type": "markdown",
      "metadata": {
        "id": "d7265379"
      },
      "source": [
        "Para comprobar la nueva función, tenemos que llamarla con valores de ejemplo:"
      ],
      "id": "d7265379"
    },
    {
      "cell_type": "code",
      "metadata": {
        "id": "c69b6520"
      },
      "source": [
        "def distancia(x1, y1, x2, y2):\n",
        "    return 0.0"
      ],
      "id": "c69b6520",
      "execution_count": null,
      "outputs": []
    },
    {
      "cell_type": "code",
      "metadata": {
        "id": "fbbd8276"
      },
      "source": [
        "distancia(1, 2, 4, 6)\n"
      ],
      "id": "fbbd8276",
      "execution_count": null,
      "outputs": []
    },
    {
      "cell_type": "markdown",
      "metadata": {
        "id": "e799cf00"
      },
      "source": [
        "Elegimos estos valores de tal forma que la distancia horizontal sea igual a 3 y la distancia vertical sea igual a 4; de esa manera el resultado es 5 (la hipotenusa del triángulo 3-4-5). "
      ],
      "id": "e799cf00"
    },
    {
      "cell_type": "markdown",
      "metadata": {
        "id": "4522b57c"
      },
      "source": [
        "Cuando se comprueba una función, es útil saber la respuesta correcta."
      ],
      "id": "4522b57c"
    },
    {
      "cell_type": "markdown",
      "metadata": {
        "id": "ed3b9ab1"
      },
      "source": [
        "Hasta el momento, hemos comprobado que **la función es sintácticamente correcta**, así que podemos empezar a añadir líneas de código. "
      ],
      "id": "ed3b9ab1"
    },
    {
      "cell_type": "markdown",
      "metadata": {
        "id": "206c184d"
      },
      "source": [
        "Después de cada **cambio incremental**, comprobamos de nuevo la función. "
      ],
      "id": "206c184d"
    },
    {
      "cell_type": "markdown",
      "metadata": {
        "id": "39609edf"
      },
      "source": [
        "Si en un momento dado aparece un error, sabremos dónde está exactamente: en la última línea que hayamos añadido."
      ],
      "id": "39609edf"
    },
    {
      "cell_type": "markdown",
      "metadata": {
        "id": "1a059bc2"
      },
      "source": [
        "El siguiente paso en el cálculo es encontrar las diferencias entre $x_{2} − x_{1}$ y $y_{2} − y_{1}$."
      ],
      "id": "1a059bc2"
    },
    {
      "cell_type": "markdown",
      "metadata": {
        "id": "c6b48242"
      },
      "source": [
        "Almacenaremos dichos valores en variables temporales llamadas $dx$ y $dy$ y las imprimiremos."
      ],
      "id": "c6b48242"
    },
    {
      "cell_type": "code",
      "metadata": {
        "id": "90bd0551"
      },
      "source": [
        "def distancia(x1, y1, x2, y2):\n",
        "    dx = x2 - x1\n",
        "    dy = y2 - y1\n",
        "    print(\"dx es\", dx)\n",
        "    print(\"dy es\", dy)\n",
        "    return 0.0"
      ],
      "id": "90bd0551",
      "execution_count": null,
      "outputs": []
    },
    {
      "cell_type": "markdown",
      "metadata": {
        "id": "84ff05cc"
      },
      "source": [
        "Si la función funciona, valga la redundancia, las salidas deberían ser 3 y 4. "
      ],
      "id": "84ff05cc"
    },
    {
      "cell_type": "markdown",
      "metadata": {
        "id": "e30c53cc"
      },
      "source": [
        "Si es así, sabemos que la función recibe correctamente los parámetros y realiza correctamente el primer cálculo. "
      ],
      "id": "e30c53cc"
    },
    {
      "cell_type": "markdown",
      "metadata": {
        "id": "ef1f554f"
      },
      "source": [
        "Si no, sólo hay unas pocas líneas que revisar."
      ],
      "id": "ef1f554f"
    },
    {
      "cell_type": "markdown",
      "metadata": {
        "id": "48f9797e"
      },
      "source": [
        "Ahora calculamos la suma de los cuadarados de $dx$ y $dy$: "
      ],
      "id": "48f9797e"
    },
    {
      "cell_type": "code",
      "metadata": {
        "id": "e66004a9"
      },
      "source": [
        "def distancia(x1, y1, x2, y2):\n",
        "    dx = x2 - x1\n",
        "    dy = y2 - y1\n",
        "    d_al_cuadrado = dx**2 + dy**2\n",
        "    print(\"d_al_cuadrado es: \", d_al_cuadrado)\n",
        "    return 0.0"
      ],
      "id": "e66004a9",
      "execution_count": null,
      "outputs": []
    },
    {
      "cell_type": "markdown",
      "metadata": {
        "id": "e24c90e5"
      },
      "source": [
        "Fíjese en que hemos eliminado las sentencias `print()` que escribimos en el paso anterior. "
      ],
      "id": "e24c90e5"
    },
    {
      "cell_type": "markdown",
      "metadata": {
        "id": "a1a36c28"
      },
      "source": [
        "Este código se llama andamiaje porque es útil para construir el programa pero no es parte del producto final."
      ],
      "id": "a1a36c28"
    },
    {
      "cell_type": "markdown",
      "metadata": {
        "id": "69f1e239"
      },
      "source": [
        "De nuevo querremos ejecutar el programa en este estado y comprobar la salida (que debería dar 25)."
      ],
      "id": "69f1e239"
    },
    {
      "cell_type": "markdown",
      "metadata": {
        "id": "c2f5fefe"
      },
      "source": [
        "Por último, si hemos importado el módulo `math`, podemos usar la función `sqrt()` para calcular y devolver el resultado:"
      ],
      "id": "c2f5fefe"
    },
    {
      "cell_type": "code",
      "metadata": {
        "id": "2b7ae729"
      },
      "source": [
        "def distancia(x1, y1, x2, y2):\n",
        "    dx = x2 - x1\n",
        "    dy = y2 - y1\n",
        "    dalcuadrado = dx**2 + dy**2\n",
        "    resultado = math.sqrt(dalcuadrado)\n",
        "    return resultado"
      ],
      "id": "2b7ae729",
      "execution_count": null,
      "outputs": []
    },
    {
      "cell_type": "code",
      "metadata": {
        "id": "8c5b92fc"
      },
      "source": [
        "distancia(0,0,3,4)"
      ],
      "id": "8c5b92fc",
      "execution_count": null,
      "outputs": []
    },
    {
      "cell_type": "markdown",
      "metadata": {
        "id": "db40735c"
      },
      "source": [
        "Si esto funciona correctamente, ha terminado. "
      ],
      "id": "db40735c"
    },
    {
      "cell_type": "markdown",
      "metadata": {
        "id": "d07a2de9"
      },
      "source": [
        "Si no, podría ser que quisiera usted imprimir el valor de resultado antes de la sentencia `return` al principio, debería añadir solamente una o dos líneas de código cada vez."
      ],
      "id": "d07a2de9"
    },
    {
      "cell_type": "markdown",
      "metadata": {
        "id": "cac0daa7"
      },
      "source": [
        "Conforme vaya ganando experiencia, puede que se encuentre escribiendo y depurando trozos mayores. "
      ],
      "id": "cac0daa7"
    },
    {
      "cell_type": "markdown",
      "metadata": {
        "id": "962bb9ea"
      },
      "source": [
        "Sin embargo, el proceso de **desarrollo incremental** puede ahorrarle mucho tiempo de depurado."
      ],
      "id": "962bb9ea"
    },
    {
      "cell_type": "markdown",
      "metadata": {
        "id": "25344a25"
      },
      "source": [
        "Los aspectos fundamentales del proceso son: \n",
        "\n",
        "1. Comience con un programa que funcione y hágale pequeños cambios incrementales. Si hay un \n",
        "   error, sabrá exactamente dónde está.\n",
        "2. Use variables temporales para mantener valores intermedios, de tal manera que pueda mostrarlos \n",
        "   por pantalla y comprobarlos.\n",
        "3. Una vez que el programa esté funcionando, tal vez prefiera eliminar parte del andamiaje o \n",
        "   aglutinar múltiples sentencias en expresiones compuestas, pero sólo si eso **no** hace que el \n",
        "   programa sea difícil de leer."
      ],
      "id": "25344a25"
    },
    {
      "cell_type": "markdown",
      "metadata": {
        "id": "ae9dfa6c"
      },
      "source": [
        "## Tarea: "
      ],
      "id": "ae9dfa6c"
    },
    {
      "cell_type": "markdown",
      "metadata": {
        "id": "0ebee3d3"
      },
      "source": [
        "Como actividad, utilice **el desarrollo incremental** para escribir una función de nombre hipotenusa que devuelva la longitud de la hipotenusa de un triángulo rectángulo, dando como parámetros los dos\n",
        "catetos. "
      ],
      "id": "0ebee3d3"
    },
    {
      "cell_type": "markdown",
      "metadata": {
        "id": "2e8edebe"
      },
      "source": [
        "Registre cada estado del desarrollo incremental según vaya avanzando."
      ],
      "id": "2e8edebe"
    },
    {
      "cell_type": "markdown",
      "metadata": {
        "id": "37b0a278"
      },
      "source": [
        "## 5.3. Composición  "
      ],
      "id": "37b0a278"
    },
    {
      "cell_type": "markdown",
      "metadata": {
        "id": "1dbf9723"
      },
      "source": [
        "Como seguramente a estas alturas ya supondrá, se puede llamar a una función desde dentro de otra."
      ],
      "id": "1dbf9723"
    },
    {
      "cell_type": "markdown",
      "metadata": {
        "id": "cefa1df9"
      },
      "source": [
        "Esta habilidad se llama composición."
      ],
      "id": "cefa1df9"
    },
    {
      "cell_type": "markdown",
      "metadata": {
        "id": "3940e841"
      },
      "source": [
        "Como ejemplo, escribiremos una función que tome dos puntos, el centro del círculo y un punto del perímetro, y calcule el área del círculo."
      ],
      "id": "3940e841"
    },
    {
      "cell_type": "markdown",
      "metadata": {
        "id": "4e2ec338"
      },
      "source": [
        "Supongamos que el punto central está almacenado en las variables $xc$ e $yc$, y que el punto del perímetro lo está en $xp$ e $yp$. "
      ],
      "id": "4e2ec338"
    },
    {
      "cell_type": "markdown",
      "metadata": {
        "id": "a99471cf"
      },
      "source": [
        "El primer paso es hallar el radio del c´ırculo, que es la distancia entre los dos puntos. Afortunadamente hay una funci´on, distancia, que realiza esta tarea:\n",
        "\n",
        "$$ radio = distancia(xc, yc, xp, yp) $$"
      ],
      "id": "a99471cf"
    },
    {
      "cell_type": "markdown",
      "metadata": {
        "id": "598a30f4"
      },
      "source": [
        "El segundo paso es encontrar el área de un círculo con ese radio y devolverla:"
      ],
      "id": "598a30f4"
    },
    {
      "cell_type": "markdown",
      "metadata": {
        "id": "be4be410"
      },
      "source": [
        "```python\n",
        "resultado = area(radio)\n",
        "return resultado\n",
        "```"
      ],
      "id": "be4be410"
    },
    {
      "cell_type": "markdown",
      "metadata": {
        "id": "436e25f3"
      },
      "source": [
        "Envolviendo todo esto en una función, obtenemos:"
      ],
      "id": "436e25f3"
    },
    {
      "cell_type": "code",
      "metadata": {
        "id": "a5902143"
      },
      "source": [
        "def area2(xc, yc, xp, yp):\n",
        "    radio = distancia(xc, yc, xp, yp)\n",
        "    resultado = area(radio)\n",
        "    return resultado"
      ],
      "id": "a5902143",
      "execution_count": null,
      "outputs": []
    },
    {
      "cell_type": "markdown",
      "metadata": {
        "id": "8e9fd6be"
      },
      "source": [
        "Hemos llamado a esta función `area2()` para distinguirla de la funci´on `area()` definida\n",
        "anteriormente. "
      ],
      "id": "8e9fd6be"
    },
    {
      "cell_type": "markdown",
      "metadata": {
        "id": "6ea993d9"
      },
      "source": [
        "Sólo puede haber una única función con un determinado nombre dentro de un módulo."
      ],
      "id": "6ea993d9"
    },
    {
      "cell_type": "markdown",
      "metadata": {
        "id": "bbec0093"
      },
      "source": [
        "Las variables temporales radio y area son útiles para el desarrollo y el depurado, pero una vez que el programa está funcionando, podemos hacerlo más conciso integrando las llamadas a las funciones en una sola línea:"
      ],
      "id": "bbec0093"
    },
    {
      "cell_type": "code",
      "metadata": {
        "id": "482ec9b3"
      },
      "source": [
        "def area2(xc, yc, xp, yp):\n",
        "    return area(distancia(xc, yc, xp, yp))"
      ],
      "id": "482ec9b3",
      "execution_count": null,
      "outputs": []
    },
    {
      "cell_type": "markdown",
      "metadata": {
        "id": "0bdc3b82"
      },
      "source": [
        "## Tarea"
      ],
      "id": "0bdc3b82"
    },
    {
      "cell_type": "markdown",
      "metadata": {
        "id": "093524bf"
      },
      "source": [
        "Como actividad, escriba una función `pendiente(x1, y1, x2, y2)` que devuelva la pendiente de la línea que atraviesa los puntos `(x1, y1)` y `(x2, y2)`. "
      ],
      "id": "093524bf"
    },
    {
      "cell_type": "markdown",
      "metadata": {
        "id": "01b2a76b"
      },
      "source": [
        "Luego use esta función en una función que se llame `intercepta(x1, y1, x2, y2)` que devuelva la ecuación de la línea recta a través de los puntos $(x1, y1)$ y $(x2, y2)$."
      ],
      "id": "01b2a76b"
    },
    {
      "cell_type": "markdown",
      "metadata": {
        "id": "1d5b1eae"
      },
      "source": [
        "## 5.4. Funciones booleanas"
      ],
      "id": "1d5b1eae"
    },
    {
      "cell_type": "markdown",
      "metadata": {
        "id": "81211c8b"
      },
      "source": [
        "Las funciones pueden devolver valores booleanos, lo que a menudo es conveniente\n",
        "para ocultar complicadas comprobaciones dentro de funciones. Por ejemplo:"
      ],
      "id": "81211c8b"
    },
    {
      "cell_type": "code",
      "metadata": {
        "id": "91dc56e1"
      },
      "source": [
        "def es_divisible(x, y):\n",
        "    if x % y == 0:\n",
        "        return 1       # es verdadero\n",
        "    else:\n",
        "        return 0       # es falso "
      ],
      "id": "91dc56e1",
      "execution_count": null,
      "outputs": []
    },
    {
      "cell_type": "markdown",
      "metadata": {
        "id": "85887f1d"
      },
      "source": [
        "La función lleva por nombre `es_divisible`. "
      ],
      "id": "85887f1d"
    },
    {
      "cell_type": "markdown",
      "metadata": {
        "id": "badd4287"
      },
      "source": [
        "Es habitual dar a las funciones booleanas nombres que suenan como preguntas sí/no. "
      ],
      "id": "badd4287"
    },
    {
      "cell_type": "markdown",
      "metadata": {
        "id": "79a03a37"
      },
      "source": [
        "Devuelve 1 ó 0 para indicar si la x es o no divisibelo por y."
      ],
      "id": "79a03a37"
    },
    {
      "cell_type": "markdown",
      "metadata": {
        "id": "460dcd22"
      },
      "source": [
        "Podemos reducir el tamaño de la función aprovechándonos del hecho de que la sentencia condicional que hay después del `if` es en sí misma una expresión booleana. "
      ],
      "id": "460dcd22"
    },
    {
      "cell_type": "markdown",
      "metadata": {
        "id": "f321b644"
      },
      "source": [
        "Podemos devolverla directamente, evitando a la vez la sentencia `if`:"
      ],
      "id": "f321b644"
    },
    {
      "cell_type": "code",
      "metadata": {
        "id": "822f970b"
      },
      "source": [
        "def es_divisible(x, y):\n",
        "    return x % y == 0"
      ],
      "id": "822f970b",
      "execution_count": null,
      "outputs": []
    },
    {
      "cell_type": "markdown",
      "metadata": {
        "id": "a287b0bc"
      },
      "source": [
        "La siguiente sesión muestra a la nueva función en acción:"
      ],
      "id": "a287b0bc"
    },
    {
      "cell_type": "code",
      "metadata": {
        "id": "cf4296b8"
      },
      "source": [
        "es_divisible(6, 4)"
      ],
      "id": "cf4296b8",
      "execution_count": null,
      "outputs": []
    },
    {
      "cell_type": "code",
      "metadata": {
        "id": "ae729963"
      },
      "source": [
        "es_divisible(6, 3)"
      ],
      "id": "ae729963",
      "execution_count": null,
      "outputs": []
    },
    {
      "cell_type": "markdown",
      "metadata": {
        "id": "2624df95"
      },
      "source": [
        "El uso más común para las funciones booleanas es dentro de sentencias condicionales:"
      ],
      "id": "2624df95"
    },
    {
      "cell_type": "code",
      "metadata": {
        "id": "7dfb49c1"
      },
      "source": [
        "x,y = 6,3\n",
        "if es_divisible(x, y):\n",
        "    print(\"x es divisible entre y\")\n",
        "else:\n",
        "    print(\"x no es divisible entre y\") "
      ],
      "id": "7dfb49c1",
      "execution_count": null,
      "outputs": []
    },
    {
      "cell_type": "markdown",
      "metadata": {
        "id": "352c1034"
      },
      "source": [
        "Puede parecer tentador escribir algo como:"
      ],
      "id": "352c1034"
    },
    {
      "cell_type": "code",
      "metadata": {
        "id": "5871236d"
      },
      "source": [
        "if es_divisible(x, y) == 1:\n",
        "    pass "
      ],
      "id": "5871236d",
      "execution_count": null,
      "outputs": []
    },
    {
      "cell_type": "markdown",
      "metadata": {
        "id": "d1b1d428"
      },
      "source": [
        "Pero la comparación extra es innecesaria."
      ],
      "id": "d1b1d428"
    },
    {
      "cell_type": "markdown",
      "metadata": {
        "id": "9ded2ef1"
      },
      "source": [
        "## Tarea: "
      ],
      "id": "9ded2ef1"
    },
    {
      "cell_type": "markdown",
      "metadata": {
        "id": "fe5116ad"
      },
      "source": [
        "Como actividad, escriba una función `estaEntre(x, y, z)` que devuelva 1 en caso de que `y <= x <= z` y que devuelva 0 en cualquier otro caso."
      ],
      "id": "fe5116ad"
    },
    {
      "cell_type": "markdown",
      "metadata": {
        "id": "e0f15e97"
      },
      "source": [
        "## 5.5. Más recursividad"
      ],
      "id": "e0f15e97"
    },
    {
      "cell_type": "markdown",
      "metadata": {
        "id": "c0a25e4f"
      },
      "source": [
        "Hasta ahora, usted ha aprendido solamente un pequeño subconjunto de Python, pero puede que le interese saber que ese subconjunto es ya un lenguaje de programación completo; con esto queremos decir que cualquier cosa que pueda computarse se puede expresar en este lenguaje. "
      ],
      "id": "c0a25e4f"
    },
    {
      "cell_type": "markdown",
      "metadata": {
        "id": "d9998c5f"
      },
      "source": [
        "Cualquier programa que se haya escrito alguna vez puede reescribirse utilizando únicamente las características del lenguaje que ha aprendido hasta el momento (de hecho, necesitaría algunas\n",
        "órdenes para controlar dispositivos como el teclado, el ratón, los discos, etc, pero eso es todo)."
      ],
      "id": "d9998c5f"
    },
    {
      "cell_type": "markdown",
      "metadata": {
        "id": "bc948560"
      },
      "source": [
        "Probar tal afirmación es un ejercicio nada trivial, completado por primera vez por Alan Turing, uno de los primeros científicos informáticos (algunos argumentarán que era un matemático, pero muchos de los científicos informáticos pioneros comenzaron como matemáticos). "
      ],
      "id": "bc948560"
    },
    {
      "cell_type": "markdown",
      "metadata": {
        "id": "a5fbbe39"
      },
      "source": [
        "En correspondencia, se la conoce como la tesis de Turing. "
      ],
      "id": "a5fbbe39"
    },
    {
      "cell_type": "markdown",
      "metadata": {
        "id": "8c3c26f6"
      },
      "source": [
        "Si estudia un curso de Teoría de la Computación, tendrá oportunidad de ver la prueba."
      ],
      "id": "8c3c26f6"
    },
    {
      "cell_type": "markdown",
      "metadata": {
        "id": "df1715cd"
      },
      "source": [
        "Para darle una idea de lo que puede hacer con las herramientas que ha aprendido hasta ahora, evaluaremos una serie de funciones matem´aticas que se definen recursivamente. "
      ],
      "id": "df1715cd"
    },
    {
      "cell_type": "markdown",
      "metadata": {
        "id": "dbb6313e"
      },
      "source": [
        "Una **definición recursiva** es semejante a una **definición circular**, en el sentido de que la definición contiene una referencia a lo que se define. "
      ],
      "id": "dbb6313e"
    },
    {
      "cell_type": "markdown",
      "metadata": {
        "id": "b1998900"
      },
      "source": [
        "Una definición verdaderamente circular no es muy util:  \n",
        "´\n",
        "**frangoso:** adjetivo que describe algo que es frangoso.  \n",
        "\n",
        "Si usted viera esa definición en el diccionario, se quedaría confuso. "
      ],
      "id": "b1998900"
    },
    {
      "cell_type": "markdown",
      "metadata": {
        "id": "fddfb147"
      },
      "source": [
        "Por otra parte, si ha buscado la definición de la función matemática factorial, habrá visto algo\n",
        "sejemante a lo siguiente:"
      ],
      "id": "fddfb147"
    },
    {
      "cell_type": "markdown",
      "metadata": {
        "id": "b169c2c2"
      },
      "source": [
        "\\begin{align*}\n",
        "0! & = 1 \\\\\n",
        "n! & = n · (n − 1)!\n",
        "\\end{align*}"
      ],
      "id": "b169c2c2"
    },
    {
      "cell_type": "markdown",
      "metadata": {
        "id": "e4a19ab0"
      },
      "source": [
        "Esta definición establece que el factoral de $0$ es $1$, y que el factorial de cualquier otro valor, $n$, es $n$ multiplicado por el factorial de $n − 1$."
      ],
      "id": "e4a19ab0"
    },
    {
      "cell_type": "markdown",
      "metadata": {
        "id": "864045b2"
      },
      "source": [
        "Así pues, 3! es 3 veces 2!, que es 2 veces 1!, que es una vez 0!. "
      ],
      "id": "864045b2"
    },
    {
      "cell_type": "markdown",
      "metadata": {
        "id": "e6fe1e34"
      },
      "source": [
        "Juntándolos todos, , 3! es igual a 3 veces 2 veces 1 vez 1, que es 6."
      ],
      "id": "e6fe1e34"
    },
    {
      "cell_type": "markdown",
      "metadata": {
        "id": "432ca8c7"
      },
      "source": [
        "Si puede escribir una definición recursiva de algo, normalmente podrá escribir un programa de Python para evaluarlo. "
      ],
      "id": "432ca8c7"
    },
    {
      "cell_type": "markdown",
      "metadata": {
        "id": "4f9b62f7"
      },
      "source": [
        "El primer paso es decidir cuáles son los parámetros para esta función. "
      ],
      "id": "4f9b62f7"
    },
    {
      "cell_type": "markdown",
      "metadata": {
        "id": "432a814a"
      },
      "source": [
        "Con poco esfuerzo llegará a la conclusión de que factorial toma un único parámetro: "
      ],
      "id": "432a814a"
    },
    {
      "cell_type": "code",
      "metadata": {
        "id": "215571be"
      },
      "source": [
        "def factorial(n):\n",
        "    pass "
      ],
      "id": "215571be",
      "execution_count": null,
      "outputs": []
    },
    {
      "cell_type": "markdown",
      "metadata": {
        "id": "1847a807"
      },
      "source": [
        "Si resultase que el argumento fuese 0, todo lo que hemos de hacer es devolver 1:"
      ],
      "id": "1847a807"
    },
    {
      "cell_type": "code",
      "metadata": {
        "id": "6346635d"
      },
      "source": [
        "def factorial(n):\n",
        "    if n == 0:\n",
        "        return 1"
      ],
      "id": "6346635d",
      "execution_count": null,
      "outputs": []
    },
    {
      "cell_type": "markdown",
      "metadata": {
        "id": "2a10f816"
      },
      "source": [
        "En otro caso, y he aquí la parte interesante, tenemos que hacer una llamada recursiva para hallar el factorial de $n − 1$ y luego multiplicarlo por $n$:"
      ],
      "id": "2a10f816"
    },
    {
      "cell_type": "code",
      "metadata": {
        "id": "cea52d52"
      },
      "source": [
        "def factorial(n):\n",
        "    if n == 0:\n",
        "        return 1\n",
        "    else:\n",
        "        recursivo = factorial(n-1)\n",
        "        resultado = n*recursivo\n",
        "    return resultado"
      ],
      "id": "cea52d52",
      "execution_count": null,
      "outputs": []
    },
    {
      "cell_type": "code",
      "metadata": {
        "id": "07a29292"
      },
      "source": [
        "factorial(3)"
      ],
      "id": "07a29292",
      "execution_count": null,
      "outputs": []
    },
    {
      "cell_type": "markdown",
      "metadata": {
        "id": "eb728979"
      },
      "source": [
        "El flujo de ejecución de este programa es similar al de cuenta atras de la Sección 4.9. "
      ],
      "id": "eb728979"
    },
    {
      "cell_type": "markdown",
      "metadata": {
        "id": "d8b302d4"
      },
      "source": [
        "Si llamamos a factorial con el valor 3:  \n",
        "Puesto que 3 no es 0, tomamos la segunda rama y calculamos el factorial de n-1..."
      ],
      "id": "d8b302d4"
    },
    {
      "cell_type": "markdown",
      "metadata": {
        "id": "f7799148"
      },
      "source": [
        "Puesto que 2 no es 0, tomamos la segunda rama y calculamos el\n",
        "factorial de n-1..."
      ],
      "id": "f7799148"
    },
    {
      "cell_type": "markdown",
      "metadata": {
        "id": "523c6804"
      },
      "source": [
        "Puesto que 1 no es 0, tomamos la segunda rama y calculamos el factorial de n-1...  \n",
        "Puesto que 0 es 0, tomamos la primera rama y devolvemos el valor 1 sin hacer más llamadas recursivas."
      ],
      "id": "523c6804"
    },
    {
      "cell_type": "markdown",
      "metadata": {
        "id": "6c011a4e"
      },
      "source": [
        "El valor de retorno (1) se multiplica por $n$, que es 1, y se devuelve el resultado."
      ],
      "id": "6c011a4e"
    },
    {
      "cell_type": "markdown",
      "metadata": {
        "id": "8a540778"
      },
      "source": [
        "El valor de retorno (1) se multiplica por n, que es 2, y se devuelve el resultado."
      ],
      "id": "8a540778"
    },
    {
      "cell_type": "markdown",
      "metadata": {
        "id": "ecdafe6c"
      },
      "source": [
        "El valor de retorno (2) se multiplica por $n$, que es 3, y el resultado 6, se convierte en el valor de retorno de la llamada a la función que comenzó todo el proceso."
      ],
      "id": "ecdafe6c"
    },
    {
      "cell_type": "markdown",
      "metadata": {
        "id": "41743414"
      },
      "source": [
        "He aquí el aspecto que tiene el diagrama de pila para esta secuencia de llamadas a función:"
      ],
      "id": "41743414"
    },
    {
      "cell_type": "markdown",
      "metadata": {
        "id": "2c610c0b"
      },
      "source": [
        "<img src = 'https://github.com/marco-canas/introducci-n-al-Machine-Learning/blob/main/classes/class_3/recursividad.png?raw=true'> "
      ],
      "id": "2c610c0b"
    },
    {
      "cell_type": "markdown",
      "metadata": {
        "id": "aa1c91e0"
      },
      "source": [
        "Los valores de retorno se muestran según se pasan hacia la parte superior de la pila. "
      ],
      "id": "aa1c91e0"
    },
    {
      "cell_type": "markdown",
      "metadata": {
        "id": "043c673b"
      },
      "source": [
        "En cada marco, el valor de retorno es el valor de resultado, que es el producto de $n$ por `recursivo`."
      ],
      "id": "043c673b"
    },
    {
      "cell_type": "markdown",
      "metadata": {
        "id": "bf28ba05"
      },
      "source": [
        "Nótese que en el último marco las variables locales `recursivo` y `resultado` no\n",
        "existen porque la rama que las crea no se ejecuta."
      ],
      "id": "bf28ba05"
    },
    {
      "cell_type": "markdown",
      "metadata": {
        "id": "55533c66"
      },
      "source": [
        "## 5.6. Acto de fe"
      ],
      "id": "55533c66"
    },
    {
      "cell_type": "markdown",
      "metadata": {
        "id": "b8c457ac"
      },
      "source": [
        "Seguir el **flujo de ejecución** es una de las maneras de leer programas; pero puede volverse rápidamente una tarea laberíntica. "
      ],
      "id": "b8c457ac"
    },
    {
      "cell_type": "markdown",
      "metadata": {
        "id": "26f5ffb0"
      },
      "source": [
        "La alternativa es lo que llamamos el “acto de fe”. "
      ],
      "id": "26f5ffb0"
    },
    {
      "cell_type": "markdown",
      "metadata": {
        "id": "1cb8e6ef"
      },
      "source": [
        "Cuando llegamos a una función, en lugar de seguir el flujo de ejecución, damos por sentado que la función trabaja correctamente y devuelve el valor apropiado."
      ],
      "id": "1cb8e6ef"
    },
    {
      "cell_type": "markdown",
      "metadata": {
        "id": "f1abd21a"
      },
      "source": [
        "De hecho, usted ya practica dicho salto de fe cuando usa funciones internas."
      ],
      "id": "f1abd21a"
    },
    {
      "cell_type": "markdown",
      "metadata": {
        "id": "c8675e86"
      },
      "source": [
        "Cuando llama a `math.cos()` o a `math.exp()`, no examina la implementación de dichas funciones."
      ],
      "id": "c8675e86"
    },
    {
      "cell_type": "markdown",
      "metadata": {
        "id": "0ed8c8db"
      },
      "source": [
        "Simplemente da por sentado que funcionan porque los que\n",
        "escribieron las bibliotecas internas de Python son buenos programadores.\n",
        "Lo mismo se aplica cuando llama a una de las funciones programadas por usted.\n",
        "Por ejemplo en la Secci´on 5.4, escribimos una funci´on llamada esDivisible\n",
        "que determina si un numero ´ es divisible por otro. Una vez que nos hayamos\n",
        "convencido de que dicha funci´on es correcta, comprobando y examinando el\n",
        "c´odigo, podremos usar la funci´on sin tener siquiera que volver a mirar el c´odigo\n",
        "otra vez."
      ],
      "id": "0ed8c8db"
    },
    {
      "cell_type": "markdown",
      "metadata": {
        "id": "0e789803"
      },
      "source": [
        "Lo mismo vale para los programas recursivos. Cuando llegue a la llamada recur\u0002siva, en lugar de seguir el flujo de ejecuci´on, tendr´ıa que dar por supuesto que\n",
        "la llamada recursiva funciona (es decir, devuelve el resultado correcto) y luego\n",
        "preguntarse: “suponiendo que puedo hallar el factorial de n − 1, ¿puedo hallar\n",
        "el factorial de n?” En este caso, est´a claro que s´ı puede, multiplic´andolo por n.\n",
        "Por supuesto, es un tanto extrano˜ dar por supuesto que la funci´on est´a bien\n",
        "cuando ni siquiera ha acabado de escribirla, pero precisamente por eso se llama\n",
        "acto de fe."
      ],
      "id": "0e789803"
    },
    {
      "cell_type": "markdown",
      "metadata": {
        "id": "54480439"
      },
      "source": [
        "## 5.7. Un ejemplo más"
      ],
      "id": "54480439"
    },
    {
      "cell_type": "markdown",
      "metadata": {
        "id": "b61c0cd8"
      },
      "source": [
        "En el ejemplo anterior, usamos variables temporales para ir apuntando los re\u0002sultados y para hacer que el c´odigo fuese m´as f´acil de depurar, pero podr´ıamos\n",
        "habernos ahorrado unas cuantas l´ıneas:"
      ],
      "id": "b61c0cd8"
    },
    {
      "cell_type": "code",
      "metadata": {
        "id": "bfc6643e"
      },
      "source": [
        "def factorial(n):\n",
        "    if n == 0:\n",
        "        return 1\n",
        "    else:\n",
        "        return n * factorial(n-1)"
      ],
      "id": "bfc6643e",
      "execution_count": null,
      "outputs": []
    },
    {
      "cell_type": "markdown",
      "metadata": {
        "id": "8c460828"
      },
      "source": [
        "De ahora en adelante, tenderemos a usar la versión más concisa, pero le recomendamos que utilice la versión más explícita mientras se halle desarrollando código. "
      ],
      "id": "8c460828"
    },
    {
      "cell_type": "markdown",
      "metadata": {
        "id": "506d0c1e"
      },
      "source": [
        "Cuando lo tenga funcionando, lo podrá acortar, si se siente inspirado."
      ],
      "id": "506d0c1e"
    },
    {
      "cell_type": "markdown",
      "metadata": {
        "id": "767074e8"
      },
      "source": [
        "Después de factorial, el ejemplo más común de una función matemática recursivamente definida es fibonacci, que presenta la siguiente definición:"
      ],
      "id": "767074e8"
    },
    {
      "cell_type": "markdown",
      "metadata": {
        "id": "62ca7a63"
      },
      "source": [
        "fibonacci(0) = 1  \n",
        "fibonacci(1) = 1  \n",
        "fibonacci(n) = fibonacci(n − 1) + fibonacci(n − 2);  "
      ],
      "id": "62ca7a63"
    },
    {
      "cell_type": "markdown",
      "metadata": {
        "id": "f166ea7b"
      },
      "source": [
        "Traducido a Python, es como sigue"
      ],
      "id": "f166ea7b"
    },
    {
      "cell_type": "code",
      "metadata": {
        "id": "a4a430e6"
      },
      "source": [
        "def fibonacci (n):\n",
        "    if n == 0 or n == 1:\n",
        "        return 1\n",
        "    else:\n",
        "        return fibonacci(n-1) + fibonacci(n-2)"
      ],
      "id": "a4a430e6",
      "execution_count": null,
      "outputs": []
    },
    {
      "cell_type": "markdown",
      "metadata": {
        "id": "38afe013"
      },
      "source": [
        "Si intenta seguir el flujo de ejecución aquí, incluso para valores relativamente pequeños de $n$, le puede dar un dolor de cabeza. "
      ],
      "id": "38afe013"
    },
    {
      "cell_type": "markdown",
      "metadata": {
        "id": "cd712fcc"
      },
      "source": [
        "Pero si confiamos en el acto de fe, si da por supuesto que las dos llamadas recursivas funcionan correctamente, entonces estará claro que obtiene el resultado correcto al sumarlas juntas."
      ],
      "id": "cd712fcc"
    },
    {
      "cell_type": "markdown",
      "metadata": {
        "id": "286a17ef"
      },
      "source": [
        "## 5.8. Comprobación de tipos"
      ],
      "id": "286a17ef"
    },
    {
      "cell_type": "markdown",
      "metadata": {
        "id": "3474a31c"
      },
      "source": [
        "¿Qu´e sucede si llamamos a factorial y le damos 1.5 como argumento?"
      ],
      "id": "3474a31c"
    },
    {
      "cell_type": "code",
      "metadata": {
        "id": "58436028"
      },
      "source": [
        "factorial (1.5)\n"
      ],
      "id": "58436028",
      "execution_count": null,
      "outputs": []
    },
    {
      "cell_type": "markdown",
      "metadata": {
        "id": "f21aba2a"
      },
      "source": [
        "Tiene todo el aspecto de una recursión infinita. "
      ],
      "id": "f21aba2a"
    },
    {
      "cell_type": "markdown",
      "metadata": {
        "id": "3fea1895"
      },
      "source": [
        "Pero, ¿cómo ha podido ocurrir?"
      ],
      "id": "3fea1895"
    },
    {
      "cell_type": "markdown",
      "metadata": {
        "id": "2ef3ebc3"
      },
      "source": [
        "Hay una condición de salida o caso base: cuando `n == 0`. "
      ],
      "id": "2ef3ebc3"
    },
    {
      "cell_type": "markdown",
      "metadata": {
        "id": "3280780e"
      },
      "source": [
        "El problema es que el valor de $n$ yerra el caso base."
      ],
      "id": "3280780e"
    },
    {
      "cell_type": "markdown",
      "metadata": {
        "id": "9e2f79db"
      },
      "source": [
        "En la primera llamada recursiva, el valor de n es 0.5. En la siguiente vez su valor\n",
        "es -0.5. A partir de ah´ı, se vuelve m´as y m´as pequeno, ˜ pero nunca ser´a 0.\n",
        "Tenemos dos opciones. Podemos intentar generalizar la funci´on factorial para\n",
        "que trabaje con numeros ´ de coma flotante, o podemos hacer que factorial\n",
        "compruebe el tipo de su par´ametro. La primera opci´on se llama funci´on gamma,\n",
        "y est´a m´as all´a del objetivo de este libro. As´ı pues, tomemos la segunda.\n",
        "Podemos usar la funci´on type para comparar el tipo del par´ametro con el tipo\n",
        "de un valor entero conocido (por ejemplo 1). Ya que estamos en ello, podemos\n",
        "asegurarnos de que el par´ametro sea positivo:"
      ],
      "id": "9e2f79db"
    },
    {
      "cell_type": "code",
      "metadata": {
        "id": "1aaeacd4"
      },
      "source": [
        "def factorial (n):\n",
        "    if type(n) != type(1):\n",
        "        print(\"El factorial está definido sólo para enteros.\")\n",
        "        return -1\n",
        "    elif n < 0:\n",
        "        print(\"El factorial est´a definido s´olo para enteros \\n positivos.\")\n",
        "        return -1\n",
        "    elif n == 0:\n",
        "        return 1\n",
        "    else:\n",
        "        return n * factorial(n-1)"
      ],
      "id": "1aaeacd4",
      "execution_count": null,
      "outputs": []
    },
    {
      "cell_type": "markdown",
      "metadata": {
        "id": "f88ff48e"
      },
      "source": [
        "Ahora tenemos tres condiciones de salida o casos base. "
      ],
      "id": "f88ff48e"
    },
    {
      "cell_type": "markdown",
      "metadata": {
        "id": "ed81f512"
      },
      "source": [
        "El primero filtra los números no enteros. "
      ],
      "id": "ed81f512"
    },
    {
      "cell_type": "markdown",
      "metadata": {
        "id": "9029bab0"
      },
      "source": [
        "El segundo evita los enteros negativos. "
      ],
      "id": "9029bab0"
    },
    {
      "cell_type": "markdown",
      "metadata": {
        "id": "c6885c70"
      },
      "source": [
        "En ambos casos, se muestra un mensaje de error y se devuelve un valor especial, -1, para indicar a\n",
        "quien hizo la llamada a la función que algo fue mal:"
      ],
      "id": "c6885c70"
    },
    {
      "cell_type": "code",
      "metadata": {
        "id": "c4a4a02f",
        "outputId": "0b71f9aa-f4bd-476e-e532-feaa1da88e46"
      },
      "source": [
        "factorial (1.5)"
      ],
      "id": "c4a4a02f",
      "execution_count": null,
      "outputs": [
        {
          "name": "stdout",
          "output_type": "stream",
          "text": [
            "El factorial está definido sólo para enteros.\n"
          ]
        },
        {
          "data": {
            "text/plain": [
              "-1"
            ]
          },
          "execution_count": 2,
          "metadata": {},
          "output_type": "execute_result"
        }
      ]
    },
    {
      "cell_type": "code",
      "metadata": {
        "id": "4dc8e4b2",
        "outputId": "58503711-d27d-4d16-b9b1-930ad23de479"
      },
      "source": [
        "factorial (-2)"
      ],
      "id": "4dc8e4b2",
      "execution_count": null,
      "outputs": [
        {
          "name": "stdout",
          "output_type": "stream",
          "text": [
            "El factorial est´a definido s´olo para enteros \n",
            " positivos.\n"
          ]
        },
        {
          "data": {
            "text/plain": [
              "-1"
            ]
          },
          "execution_count": 3,
          "metadata": {},
          "output_type": "execute_result"
        }
      ]
    },
    {
      "cell_type": "code",
      "metadata": {
        "id": "69de75f2",
        "outputId": "47ac7022-dcce-4151-c6be-579c180823c4"
      },
      "source": [
        "factorial (\"paco\")"
      ],
      "id": "69de75f2",
      "execution_count": null,
      "outputs": [
        {
          "name": "stdout",
          "output_type": "stream",
          "text": [
            "El factorial está definido sólo para enteros.\n"
          ]
        },
        {
          "data": {
            "text/plain": [
              "-1"
            ]
          },
          "execution_count": 4,
          "metadata": {},
          "output_type": "execute_result"
        }
      ]
    },
    {
      "cell_type": "markdown",
      "metadata": {
        "id": "d6038ee1"
      },
      "source": [
        ""
      ],
      "id": "d6038ee1"
    },
    {
      "cell_type": "markdown",
      "metadata": {
        "id": "4814b068"
      },
      "source": [
        "Si pasamos ambas comprobaciones, entonces sabemos que n es un entero positivo y podemos probar que la recursión termina."
      ],
      "id": "4814b068"
    },
    {
      "cell_type": "markdown",
      "metadata": {
        "id": "0389c367"
      },
      "source": [
        "Este programa muestra un patrón que se llama a veces guardián. "
      ],
      "id": "0389c367"
    },
    {
      "cell_type": "markdown",
      "metadata": {
        "id": "9db970d7"
      },
      "source": [
        "Las primeras dos condicionales actúan como guardianes, protegiendo al código que sigue de los valores que pudieran causar errores. "
      ],
      "id": "9db970d7"
    },
    {
      "cell_type": "markdown",
      "metadata": {
        "id": "ea9ba92c"
      },
      "source": [
        "Los guardianes hacen posible demostrar la corrección del código."
      ],
      "id": "ea9ba92c"
    },
    {
      "cell_type": "markdown",
      "metadata": {
        "id": "c5f96072"
      },
      "source": [
        "## 5.9. Glosario"
      ],
      "id": "c5f96072"
    },
    {
      "cell_type": "markdown",
      "metadata": {
        "id": "0ab228ca"
      },
      "source": [
        "* **función productiva:** Funci´on que devuelve un valor de retorno."
      ],
      "id": "0ab228ca"
    },
    {
      "cell_type": "markdown",
      "metadata": {
        "id": "cbf7af0d"
      },
      "source": [
        "valor de retorno: El valor obtenido como resultado de una llamada a una\n",
        "funci´on.\n",
        "variable temporal: Variable utilizada para almacenar un valor intermedio en\n",
        "un c´alculo complejo.\n",
        "c´odigo muerto: Parte de un programa que no podr´a ejecutarse nunca, a me\u0002nudo debido a que aparece tras una sentencia de return.\n",
        "None: Valor especial de Python que devuelven funciones que o bien no tienen\n",
        "sentencia de return o bien tienen una sentencia de return sin argumento.\n",
        "desarrollo incremental: Un m´etodo de desarrollo de programas que busca\n",
        "evitar el depurado anadiendo ˜ y probando una pequena˜ cantidad de c´odigo\n",
        "en cada paso.\n",
        "andamiaje: El c´odigo que se usa durante el desarrollo del programa pero que\n",
        "no es parte de la versi´on final"
      ],
      "id": "cbf7af0d"
    },
    {
      "cell_type": "markdown",
      "metadata": {
        "id": "bf2fbd27"
      },
      "source": [
        "**guardián:** Una condición que comprueba y maneja circunstancias que pudieran provocar un error"
      ],
      "id": "bf2fbd27"
    },
    {
      "cell_type": "code",
      "metadata": {
        "id": "052459d2"
      },
      "source": [
        ""
      ],
      "id": "052459d2",
      "execution_count": null,
      "outputs": []
    },
    {
      "cell_type": "markdown",
      "metadata": {
        "id": "5254b3ef"
      },
      "source": [
        "# 1.3 Estructuras de datos básicas  según Calderon"
      ],
      "id": "5254b3ef"
    },
    {
      "cell_type": "markdown",
      "metadata": {
        "id": "fdc8b2b4"
      },
      "source": [
        "Una forma más adecuada de almacenar la información es a través de \n",
        "* listas, \n",
        "* “tuplas” y \n",
        "* diccionarios.\n",
        "\n",
        "En ellos, la variable se compone de un conjunto ordenado de datos. Para \n",
        "crear estas estructuras se debe dar nombre a una variable, utilizar el operador de \n",
        "declaración igual (`=`) y dependiendo de si se usan paréntesis, corchetes o llaves se puede\n",
        "crear:"
      ],
      "id": "fdc8b2b4"
    },
    {
      "cell_type": "markdown",
      "metadata": {
        "id": "6968a366"
      },
      "source": [
        "## 1.3.1 Listas"
      ],
      "id": "6968a366"
    },
    {
      "cell_type": "markdown",
      "metadata": {
        "id": "8fa225b8"
      },
      "source": [
        "Una “`list`” (lista) es un conjunto de datos que pueden ser de diferente tipo, es decir, que \n",
        "puede contener \n",
        "* números enteros, \n",
        "* decimales, \n",
        "* caracteres, \n",
        "* valores booleanos entre otros, \n",
        "\n",
        "cuyos elementos **son modificables o mutables** y que se encuentran indexados, es decir \n",
        "que los datos se enumeran comenzando desde 0. Para crear listas se usan corchetes (`[ ]`)."
      ],
      "id": "8fa225b8"
    },
    {
      "cell_type": "code",
      "metadata": {
        "id": "5f104778"
      },
      "source": [
        "lista_1 = [1,0.5,'marco',True]"
      ],
      "id": "5f104778",
      "execution_count": null,
      "outputs": []
    },
    {
      "cell_type": "markdown",
      "metadata": {
        "id": "1d4bd498"
      },
      "source": [
        "## 1.3.2 Tuplas"
      ],
      "id": "1d4bd498"
    },
    {
      "cell_type": "markdown",
      "metadata": {
        "id": "48448ed2"
      },
      "source": [
        "En esta estructura, los datos se separan por comas y se encuentran entre paréntesis. "
      ],
      "id": "48448ed2"
    },
    {
      "cell_type": "markdown",
      "metadata": {
        "id": "c32ca65d"
      },
      "source": [
        "Las tuplas se caracterizan porque no se pueden modificar, **son inmutables**. "
      ],
      "id": "c32ca65d"
    },
    {
      "cell_type": "markdown",
      "metadata": {
        "id": "15bbee1b"
      },
      "source": [
        "Es decir, no se puede añadir, quitar datos ni modificar los que contiene, por la vía del operador de asignación."
      ],
      "id": "15bbee1b"
    },
    {
      "cell_type": "markdown",
      "metadata": {
        "id": "befe52e9"
      },
      "source": [
        "Sin embargo, se pueden extraer partes de las tuplas para crear nuevas tuplas o reemplazarlas con otra tupla. "
      ],
      "id": "befe52e9"
    },
    {
      "cell_type": "markdown",
      "metadata": {
        "id": "e62b4e15"
      },
      "source": [
        "Las tuplas también están indexadas y además puede  contener objetos mutables, por lo que puede existir una lista inmersa en una tupla."
      ],
      "id": "e62b4e15"
    },
    {
      "cell_type": "code",
      "metadata": {
        "id": "b5200c11"
      },
      "source": [
        "datos1 = [1,2,3]\n",
        "datos2 = (4,5,6)\n",
        "print(type(datos1))\n",
        "print(type(datos2))"
      ],
      "id": "b5200c11",
      "execution_count": null,
      "outputs": []
    },
    {
      "cell_type": "markdown",
      "metadata": {
        "id": "01da80d6"
      },
      "source": [
        "## 1.3.3 Diccionarios"
      ],
      "id": "01da80d6"
    },
    {
      "cell_type": "markdown",
      "metadata": {
        "id": "5f978c8f"
      },
      "source": [
        "Un “dict” (diccionario), es considerado en otros lenguajes como arreglos asociativos. "
      ],
      "id": "5f978c8f"
    },
    {
      "cell_type": "markdown",
      "metadata": {
        "id": "f4ba0ecf"
      },
      "source": [
        "En lugar de estar indexados por números, los diccionarios se indexan por medio de “keys”\n",
        "(llaves) que comprenden tipos inmutables como caracteres o números (Python Software Foundation, 2019)"
      ],
      "id": "f4ba0ecf"
    },
    {
      "cell_type": "code",
      "metadata": {
        "id": "81cecdd9"
      },
      "source": [
        "altura = {'diego':1.83, 'diana':1.76, 'andrés':1.74}\n",
        "type(altura) "
      ],
      "id": "81cecdd9",
      "execution_count": null,
      "outputs": []
    },
    {
      "cell_type": "markdown",
      "metadata": {
        "id": "99f38f09"
      },
      "source": [
        "## 1.4 La función input"
      ],
      "id": "99f38f09"
    },
    {
      "cell_type": "markdown",
      "metadata": {
        "id": "434ffae7"
      },
      "source": [
        "En el aprendizaje de la programación se trabaja con información o entradas provenientes de un usuario. "
      ],
      "id": "434ffae7"
    },
    {
      "cell_type": "markdown",
      "metadata": {
        "id": "328a0fc9"
      },
      "source": [
        "El usuario ingresa un dato o valor, posteriormente un código lo captura y lo utiliza dentro de una función para arrojar un resultado."
      ],
      "id": "328a0fc9"
    },
    {
      "cell_type": "markdown",
      "metadata": {
        "id": "792c27fa"
      },
      "source": [
        "La función “`input`” permite que el usuario ingrese una entrada al programa, la cual siempre \n",
        "será guardada como tipo carácter. "
      ],
      "id": "792c27fa"
    },
    {
      "cell_type": "markdown",
      "metadata": {
        "id": "e6050e7a"
      },
      "source": [
        "En caso de querer usarlo como dato de tipo numérico se debe \n",
        "\n",
        "* utilizar la función “`int`” aplicada a la entrada para convertirlo en un dato de tipo entero o de \n",
        "* usar la función “`float`” se convertiría en flotante. "
      ],
      "id": "e6050e7a"
    },
    {
      "cell_type": "markdown",
      "metadata": {
        "id": "9691db31"
      },
      "source": [
        "* Un dato puede convertirse a tipo carácter usando la función “`str()`”."
      ],
      "id": "9691db31"
    },
    {
      "cell_type": "markdown",
      "metadata": {
        "id": "fea47a0f"
      },
      "source": [
        "Es conveniente guardar la información que el usuario va a ingresar en una variable para manipularla posteriormente. "
      ],
      "id": "fea47a0f"
    },
    {
      "cell_type": "markdown",
      "metadata": {
        "id": "5eb22b8b"
      },
      "source": [
        "La función “`input`” abre un cuadro de texto en el que el usuario podrá ingresar datos."
      ],
      "id": "5eb22b8b"
    },
    {
      "cell_type": "markdown",
      "metadata": {
        "id": "29203964"
      },
      "source": [
        "### Ejemplo de la función “`Input`”"
      ],
      "id": "29203964"
    },
    {
      "cell_type": "code",
      "metadata": {
        "id": "1650386f"
      },
      "source": [
        "a = input('Escriba su nombre: ')\n",
        "print('Su nombre es: ', a) "
      ],
      "id": "1650386f",
      "execution_count": null,
      "outputs": []
    },
    {
      "cell_type": "code",
      "metadata": {
        "id": "4f9ed1ce"
      },
      "source": [
        "print('Tengo 10 productos')\n",
        "a = int(input('Entre el número de productos que usted tiene: '))\n",
        "print('Tenemos ', 10+a, ' productos') "
      ],
      "id": "4f9ed1ce",
      "execution_count": null,
      "outputs": []
    },
    {
      "cell_type": "markdown",
      "metadata": {
        "id": "0897d997"
      },
      "source": [
        "## 1.5 Otras funciones matemáticas"
      ],
      "id": "0897d997"
    },
    {
      "cell_type": "markdown",
      "metadata": {
        "id": "ff2bd9a8"
      },
      "source": [
        "Antes de realizar otras operaciones matemáticas más complejas es necesario entender que Python puede cargar módulos, que son partes de software con funcionalidades específicas. "
      ],
      "id": "ff2bd9a8"
    },
    {
      "cell_type": "markdown",
      "metadata": {
        "id": "f86528c1"
      },
      "source": [
        "Los módulos de Python suelen contener funciones, clases o variables definidas e implementadas (Learn Python Org., 2019)."
      ],
      "id": "f86528c1"
    },
    {
      "cell_type": "markdown",
      "metadata": {
        "id": "8be48cb1"
      },
      "source": [
        "Uno de estos módulos es el “`math`”, con el cual se pueden aplicar \n",
        "\n",
        "* funciones trigonométricas, \n",
        "* hiperbólicas, \n",
        "* logarítmicas entre otras. "
      ],
      "id": "8be48cb1"
    },
    {
      "cell_type": "markdown",
      "metadata": {
        "id": "10554326"
      },
      "source": [
        "Para hacer uso de este módulo primero debe ser importado utilizando la declaración “`import`“ que permite acceder al código de otros módulos. "
      ],
      "id": "10554326"
    },
    {
      "cell_type": "markdown",
      "metadata": {
        "id": "2125d124"
      },
      "source": [
        "Se escribe posteriormente otra declaración llamada `as` para instar el módulo con otro nombre de modo que sea más sencillo llamarlo, esto proviene realmente de que Python soporta programación orientada a objetos."
      ],
      "id": "2125d124"
    },
    {
      "cell_type": "code",
      "metadata": {
        "id": "5e67a5bb"
      },
      "source": [
        "import math as m "
      ],
      "id": "5e67a5bb",
      "execution_count": null,
      "outputs": []
    },
    {
      "cell_type": "markdown",
      "metadata": {
        "id": "1692fef5"
      },
      "source": [
        "Al hacer esta importación, ya es posible utilizar las funciones que contiene el módulo “`math`”\n",
        "de Python. "
      ],
      "id": "1692fef5"
    },
    {
      "cell_type": "markdown",
      "metadata": {
        "id": "6f8628f6"
      },
      "source": [
        "Primero se llama el módulo, seguido se coloca un punto y luego la función que se desee aplicar teniendo en cuenta que entre los paréntesis se coloca la variable o el valor de entrada."
      ],
      "id": "6f8628f6"
    },
    {
      "cell_type": "code",
      "metadata": {
        "id": "5b04fb64"
      },
      "source": [
        "m.exp(1)"
      ],
      "id": "5b04fb64",
      "execution_count": null,
      "outputs": []
    },
    {
      "cell_type": "code",
      "metadata": {
        "id": "e42ee89d"
      },
      "source": [
        "import math as m \n",
        "help(m.exp) "
      ],
      "id": "e42ee89d",
      "execution_count": null,
      "outputs": []
    },
    {
      "cell_type": "markdown",
      "metadata": {
        "id": "89dee9fe"
      },
      "source": [
        "Para conocer todas las demás funciones contenidas en el módulo “`math`” puede utilizarse la función “`dir`” contenida en la librería estándar, en la cual, si se coloca el nombre de un módulo se obtienen los atributos del mismo:\n"
      ],
      "id": "89dee9fe"
    },
    {
      "cell_type": "code",
      "metadata": {
        "id": "3c8c0760"
      },
      "source": [
        "dir(m)"
      ],
      "id": "3c8c0760",
      "execution_count": null,
      "outputs": []
    },
    {
      "cell_type": "markdown",
      "metadata": {
        "id": "975042e6"
      },
      "source": [
        "## 1.6 Otros tipos de operadores "
      ],
      "id": "975042e6"
    },
    {
      "cell_type": "markdown",
      "metadata": {
        "id": "3df1d111"
      },
      "source": [
        "Los operadores son símbolos utilizados en informática para que el compilador ejecute operaciones sobre unos operandos para producir un resultado. "
      ],
      "id": "3df1d111"
    },
    {
      "cell_type": "markdown",
      "metadata": {
        "id": "351e4e04"
      },
      "source": [
        "Cabe anotar que además de \n",
        "* los operadores aritméticos \n",
        "existen \n",
        "* los operadores relacionales y \n",
        "* los operadores lógicos. "
      ],
      "id": "351e4e04"
    },
    {
      "cell_type": "markdown",
      "metadata": {
        "id": "3da3ee78"
      },
      "source": [
        "### 1.6.1 Operadores relacionales"
      ],
      "id": "3da3ee78"
    },
    {
      "cell_type": "markdown",
      "metadata": {
        "id": "11a1617c"
      },
      "source": [
        "Los operadores relacionales comparan los valores de dos expresiones y devuelven un resultado booleano. "
      ],
      "id": "11a1617c"
    },
    {
      "cell_type": "markdown",
      "metadata": {
        "id": "0360fa72"
      },
      "source": [
        "Los operadores relacionales en Python se muestran en la siguiente tabla:"
      ],
      "id": "0360fa72"
    },
    {
      "cell_type": "code",
      "metadata": {
        "id": "19692729"
      },
      "source": [
        "import pandas as pd \n",
        "operador = ['==','!=','>','<','>=','<=']\n",
        "significado = ['Es igual a', 'es diferente de', \n",
        "               'es mayor que', 'es menor que', \n",
        "               'es mayor o igual que','es menor o igual que']\n",
        "operadores_relacionales = pd.DataFrame({'operador':operador, 'significado':significado})\n",
        "operadores_relacionales "
      ],
      "id": "19692729",
      "execution_count": null,
      "outputs": []
    },
    {
      "cell_type": "markdown",
      "metadata": {
        "id": "ba335e8f"
      },
      "source": [
        "## 1.6.2 Operadores lógicos"
      ],
      "id": "ba335e8f"
    },
    {
      "cell_type": "markdown",
      "metadata": {
        "id": "453c7368"
      },
      "source": [
        "Los operadores lógicos ejecutan operaciones en las que usualmente se evalúan dos operandos de tipo lógico y devuelve un resultado de tipo lógico igualmente. "
      ],
      "id": "453c7368"
    },
    {
      "cell_type": "markdown",
      "metadata": {
        "id": "837c541b"
      },
      "source": [
        "Los operadores lógicos en Python se muestran en la siguiente tabla:"
      ],
      "id": "837c541b"
    },
    {
      "cell_type": "code",
      "metadata": {
        "id": "3c726195"
      },
      "source": [
        "import pandas as pd \n",
        "operador = ['And','Or','Not']\n",
        "significado = ['Y (determina si ambos operandos son verdaderos)', \n",
        "              'O (determina si alguno de los operandos son verdaderos)',\n",
        "              'No es (niega el valor de un operando)']\n",
        "operadores_logicos = pd.DataFrame({'operador lógico':operador, 'significado':significado})\n",
        "operadores_logicos"
      ],
      "id": "3c726195",
      "execution_count": null,
      "outputs": []
    },
    {
      "cell_type": "markdown",
      "metadata": {
        "id": "7b28eada"
      },
      "source": [
        "Los operadores relacionales y lógicos son esenciales ya que son la base del control y gestión de los datos, en especial para comparar datos y modificar información en una variable (Mueller, John, 2018, p. 115). "
      ],
      "id": "7b28eada"
    },
    {
      "cell_type": "markdown",
      "metadata": {
        "id": "63ef6c0f"
      },
      "source": [
        "Cabe anotar que el uso de los operadores se da cuando se trabajan estructuras de control para ejecutar tareas, ya que se evalúan condiciones dadas antes de continuar con la ejecución de las mismas."
      ],
      "id": "63ef6c0f"
    },
    {
      "cell_type": "markdown",
      "metadata": {
        "id": "29488de5"
      },
      "source": [
        "### Ejemplo de operadores relacionales.\n"
      ],
      "id": "29488de5"
    },
    {
      "cell_type": "code",
      "metadata": {
        "id": "f47c6b8a"
      },
      "source": [
        "3==2+1, "
      ],
      "id": "f47c6b8a",
      "execution_count": null,
      "outputs": []
    },
    {
      "cell_type": "markdown",
      "metadata": {
        "id": "1f62508f"
      },
      "source": [
        "### Ejemplo de operadores relacionales con operadores lógicos.\n"
      ],
      "id": "1f62508f"
    },
    {
      "cell_type": "code",
      "metadata": {
        "id": "36e206da"
      },
      "source": [
        "3+5>6 and 2+3==4 "
      ],
      "id": "36e206da",
      "execution_count": null,
      "outputs": []
    },
    {
      "cell_type": "markdown",
      "metadata": {
        "id": "187fb8cf"
      },
      "source": [
        "## 1.7 Estructuras de control"
      ],
      "id": "187fb8cf"
    },
    {
      "cell_type": "markdown",
      "metadata": {
        "id": "4ec2dcfc"
      },
      "source": [
        "Según (Fisher, 1970) “por estructuras de control se hace referencia a entornos de programación u operaciones que especifican\n",
        "\n",
        "* la secuencia y \n",
        "* la interpretación de reglas \n",
        "\n",
        "para programas o partes de programas.” "
      ],
      "id": "4ec2dcfc"
    },
    {
      "cell_type": "markdown",
      "metadata": {
        "id": "9e527f24"
      },
      "source": [
        "A continuación, se trabajarán tres estructuras de control básicas: \n",
        "\n",
        "* la declaración “if”, \n",
        "* el ciclo “while” y \n",
        "* el ciclo “for”"
      ],
      "id": "9e527f24"
    },
    {
      "cell_type": "markdown",
      "metadata": {
        "id": "33c9b2c1"
      },
      "source": [
        "## 1.7.1 Declaración if- elif-else"
      ],
      "id": "33c9b2c1"
    },
    {
      "cell_type": "markdown",
      "metadata": {
        "id": "be94a0ac"
      },
      "source": [
        "La declaración `“if”` es una herramienta para crear decisiones en los lenguajes de programación. "
      ],
      "id": "be94a0ac"
    },
    {
      "cell_type": "markdown",
      "metadata": {
        "id": "3a44f51d"
      },
      "source": [
        "Al usar dicha declaración se puede dar paso a que se cumplan determinadas acciones de acuerdo a una condición que se establece: sí se cumple determinada condición, se realiza determinada acción. "
      ],
      "id": "3a44f51d"
    },
    {
      "cell_type": "markdown",
      "metadata": {
        "id": "6b49755b"
      },
      "source": [
        "Si no, se realiza otra."
      ],
      "id": "6b49755b"
    },
    {
      "cell_type": "markdown",
      "metadata": {
        "id": "5a0f8e42"
      },
      "source": [
        " \n",
        "Para usar esta declaración se escribe “if”, seguido de la condición y después de ésta se \n",
        "colocan dos puntos “:” con el fin de especificar el fin de la condición. Posteriormente se \n",
        "crea un nuevo renglón con la tecla “enter” en donde se escribe el código que se ejecutará\n",
        "en caso de que la condición se cumpla.\n",
        "Es importante distinguir la sangría que aparece después de presionar “enter” una vez se \n",
        "haya escrito los dos puntos “:” que marcan el final de la condición.\n",
        "Cabe resaltar que Python no usa llaves para establecer hasta qué punto el código escrito \n",
        "se encuentra dependiente de la condición, por lo que hay que entender bien la profundidad \n",
        "de las sangrías para entender a qué condición pertenecen. \n",
        "La condición “elif” que significa “else if”, permite añadir más condiciones para evaluar. \n",
        "Finalmente se añade la cláusula “else” al mismo nivel de la cláusula if para ejecutar la tarea \n",
        "alternativa en caso de que las previas no se hayan cumplido (Mueller, 2018, p. 136)."
      ],
      "id": "5a0f8e42"
    },
    {
      "cell_type": "markdown",
      "metadata": {
        "id": "b1b37c01"
      },
      "source": [
        "## Ejemplo de declaraciones “If-elif-else”."
      ],
      "id": "b1b37c01"
    },
    {
      "cell_type": "code",
      "metadata": {
        "id": "ed3c138c",
        "outputId": "99682e5b-f61a-4993-af8e-9c49372d788c"
      },
      "source": [
        "nota = float(input('Ingrese su calificación(0-50): '))"
      ],
      "id": "ed3c138c",
      "execution_count": null,
      "outputs": [
        {
          "name": "stdout",
          "output_type": "stream",
          "text": [
            "Ingrese su calificación(0-50): 40\n"
          ]
        }
      ]
    },
    {
      "cell_type": "code",
      "metadata": {
        "id": "c3d13648",
        "outputId": "f536b5ad-43d8-475e-c869-c334335d1276"
      },
      "source": [
        "if nota<0 or nota>50:\n",
        "    print('La calificación no es válida')\n",
        "elif nota<30:\n",
        "    print('Ha reprobado')\n",
        "else:  \n",
        "    print('Ha aprobado, felicitaciones') "
      ],
      "id": "c3d13648",
      "execution_count": null,
      "outputs": [
        {
          "name": "stdout",
          "output_type": "stream",
          "text": [
            "Ha aprobado, felicitaciones\n"
          ]
        }
      ]
    },
    {
      "cell_type": "markdown",
      "metadata": {
        "id": "b6d2a5ef"
      },
      "source": [
        "En el ejemplo anterior, se evalúa sí la variable nota se encuentra fuera de los rangos de \n",
        "calificación. Sí se encuentra dentro de los rangos válidos para una calificación,\n",
        "posteriormente se evalúa. Si es menor que 30, de ser verdadero como en el ejemplo, se \n",
        "ejecuta la línea siguiente. De no ser verdadero se ejecutará la línea después del “else”. \n",
        "Siempre se ejecutan las líneas contenidas en la declaración “else” cuando las líneas \n",
        "contenidas en las declaraciones “if” no se cumplen (Mueller, 2018, p. 142)."
      ],
      "id": "b6d2a5ef"
    },
    {
      "cell_type": "markdown",
      "metadata": {
        "id": "f3c7c5ac"
      },
      "source": [
        "## 1.7.2 Ciclo While"
      ],
      "id": "f3c7c5ac"
    },
    {
      "cell_type": "markdown",
      "metadata": {
        "id": "a69e7043"
      },
      "source": [
        "Según (Fisher, 1970) el ciclo “while” es una expresión iterativa de bucle que causa la \n",
        "ejecución repetitiva de una expresión en la medida que una condición determinada se \n",
        "cumpla o no. En Python este ciclo se realiza escribiendo “while”, seguido de la condición y \n",
        "finalmente se especifica el final de la condición colocando dos puntos “:”."
      ],
      "id": "a69e7043"
    },
    {
      "cell_type": "markdown",
      "metadata": {
        "id": "d8f59687"
      },
      "source": [
        "### Ejemplo  \n",
        "\n",
        "Uso del ciclo “while” para imprimir los números del 1 hasta el 4."
      ],
      "id": "d8f59687"
    },
    {
      "cell_type": "code",
      "metadata": {
        "id": "7ff33d80",
        "outputId": "098ef681-d7d5-419a-d3df-87df924c9240"
      },
      "source": [
        "x = 0\n",
        "while x < 5:\n",
        "    x = x+1\n",
        "    print(x)"
      ],
      "id": "7ff33d80",
      "execution_count": null,
      "outputs": [
        {
          "name": "stdout",
          "output_type": "stream",
          "text": [
            "1\n",
            "2\n",
            "3\n",
            "4\n",
            "5\n"
          ]
        }
      ]
    },
    {
      "cell_type": "markdown",
      "metadata": {
        "id": "634a146d"
      },
      "source": [
        "Otro ejemplo en el que se utiliza el ciclo `“while”` sería el siguiente:"
      ],
      "id": "634a146d"
    },
    {
      "cell_type": "code",
      "metadata": {
        "id": "89d73667",
        "outputId": "a71929cd-0aba-4d1b-cd35-14699d9df8d9"
      },
      "source": [
        "import random\n",
        "from random import randint\n",
        "intentos = 1\n",
        "x = randint(1,9)\n",
        "numero = int(input('Adivina un número entre 0 y 10: '))\n",
        "while numero != x:\n",
        "    numero = int(input('Fallaste. Intenta de nuevo: '))\n",
        "    intentos = intentos + 1\n",
        "print('Has adivinado el número. Usaste: ', intentos, 'intentos' )    "
      ],
      "id": "89d73667",
      "execution_count": null,
      "outputs": [
        {
          "name": "stdout",
          "output_type": "stream",
          "text": [
            "Adivina un número entre 0 y 10: 4\n",
            "Fallaste. Intenta de nuevo: 3\n",
            "Has adivinado el número. Usaste:  2 intentos\n"
          ]
        }
      ]
    },
    {
      "cell_type": "markdown",
      "metadata": {
        "id": "99707a56"
      },
      "source": [
        "En la Figura anterior (1-19) se importa el módulo `“random”` y de éste se extrae sólo uno de \n",
        "sus atributos usando la declaración “from” (Mueller, 2018, p. 205). "
      ],
      "id": "99707a56"
    },
    {
      "cell_type": "markdown",
      "metadata": {
        "id": "263c857e"
      },
      "source": [
        "El atributo extraído es `randint()` el cual genera un número entero aleatorio con base en \n",
        "una distribución uniforme. "
      ],
      "id": "263c857e"
    },
    {
      "cell_type": "markdown",
      "metadata": {
        "id": "799d09f7"
      },
      "source": [
        "Luego, los números colocados en la función se incluyen (intervalo cerrado), con lo cual se tiene un número aleatorio de entre 0 y 10. "
      ],
      "id": "799d09f7"
    },
    {
      "cell_type": "markdown",
      "metadata": {
        "id": "d160046e"
      },
      "source": [
        "El ciclo `“while”` se encarga entonces de pedir al usuario un número, siempre y cuando éste \n",
        "número no sea igual al número aleatorio generado con la función “randint”. "
      ],
      "id": "d160046e"
    },
    {
      "cell_type": "markdown",
      "metadata": {
        "id": "f3e7ff82"
      },
      "source": [
        "Finalmente, con la variable intentos se lleva la cuenta de las veces que el usuario ha ingresado un \n",
        "valor."
      ],
      "id": "f3e7ff82"
    },
    {
      "cell_type": "markdown",
      "metadata": {
        "id": "0fa556fc"
      },
      "source": [
        "## 1.7.3 Declaración for"
      ],
      "id": "0fa556fc"
    },
    {
      "cell_type": "markdown",
      "metadata": {
        "id": "46fa7570"
      },
      "source": [
        "Es una declaración común en los lenguajes de programación. "
      ],
      "id": "46fa7570"
    },
    {
      "cell_type": "markdown",
      "metadata": {
        "id": "5391b4f3"
      },
      "source": [
        "Se trata de un ciclo que se repite una determinada cantidad de veces por medio de sucesiones que se pueden especificar por medio de la función `“range”`, letras u otras alternativas más convenientes (Mueller, 2018, p. 152)."
      ],
      "id": "5391b4f3"
    },
    {
      "cell_type": "markdown",
      "metadata": {
        "id": "d949fb87"
      },
      "source": [
        "Para usar esta declaración se escribe `for`, seguido de una variable que se irá convirtiendo \n",
        "en los valores que se establezcan, según lo que se especifique como sí se tratara de un \n",
        "contador y al final se utilizan dos puntos `:`."
      ],
      "id": "d949fb87"
    },
    {
      "cell_type": "markdown",
      "metadata": {
        "id": "840ef7b2"
      },
      "source": [
        "### Ejemplo del ciclo “for” en “Python”."
      ],
      "id": "840ef7b2"
    },
    {
      "cell_type": "code",
      "metadata": {
        "id": "51eb3611",
        "outputId": "aac9da13-2865-452b-c0c5-ace82881944b"
      },
      "source": [
        "for x in range(0,5):\n",
        "    print('numero: ',x)"
      ],
      "id": "51eb3611",
      "execution_count": null,
      "outputs": [
        {
          "name": "stdout",
          "output_type": "stream",
          "text": [
            "numero:  0\n",
            "numero:  1\n",
            "numero:  2\n",
            "numero:  3\n",
            "numero:  4\n"
          ]
        }
      ]
    },
    {
      "cell_type": "markdown",
      "metadata": {
        "id": "16092305"
      },
      "source": [
        "La función `range(0,5)` genera una lista de números que va desde 0 hasta 4 (intervalo \n",
        "abierto por derecha). "
      ],
      "id": "16092305"
    },
    {
      "cell_type": "markdown",
      "metadata": {
        "id": "1887dc4d"
      },
      "source": [
        "El valor inicial de x es 0."
      ],
      "id": "1887dc4d"
    },
    {
      "cell_type": "markdown",
      "metadata": {
        "id": "c2279f23"
      },
      "source": [
        "Luego se ejecuta lo que se encuentre en el ciclo. Teniendo en cuenta ese valor y cuando \n",
        "finalice, se regresa a la línea en la que se encuentra el “for”. Posteriormente la variable x \n",
        "toma el valor de 1 proveniente de la función “range” y vuelve a ejecutarse lo que exista \n",
        "dentro del ciclo “for”. \n",
        "En este ejemplo se está imprimiendo el valor de x a medida que cambia de valor al recorrer \n",
        "los números del 0 hasta el 4.\n",
        "La función “range” es útil para crear las iteraciones en los ciclos “for”. Debe tenerse en \n",
        "cuenta que no se obtiene una lista como tal con la función “range”, sino que es necesario \n",
        "transformar el resultado a una lista, sí se desea usar como un vector de números mediante\n",
        "la función “list”.\n",
        "El ciclo “for” también se usa frecuentemente para recorrer valores contenidos en una lista \n",
        "o vector y con ello realizar tareas de búsqueda y/o modificaciones."
      ],
      "id": "c2279f23"
    },
    {
      "cell_type": "markdown",
      "metadata": {
        "id": "abae009b"
      },
      "source": [
        "Dentro de la declaración `for` se suelen incluir declaraciones “if” y se usan más declaraciones para controlar la ejecución del ciclo, que son \n",
        "\n",
        "* “Continue”, \n",
        "* “Pass” y \n",
        "* “Break”:"
      ],
      "id": "abae009b"
    },
    {
      "cell_type": "markdown",
      "metadata": {
        "id": "603be85d"
      },
      "source": [
        "* `Break`: Detiene la ejecución del ciclo  \n",
        "* “Continue”: No se ejecuta la iteración actual pero si las iteraciones siguientes\n",
        "* “Pass”: Permite la ejecución de la iteración actual y las siguientes."
      ],
      "id": "603be85d"
    },
    {
      "cell_type": "markdown",
      "metadata": {
        "id": "86e24007"
      },
      "source": [
        "La siguiente figura muestra un ciclo “for” con “if” sin las declaraciones mencionadas \n",
        "anteriormente:"
      ],
      "id": "86e24007"
    },
    {
      "cell_type": "markdown",
      "metadata": {
        "id": "0798eed1"
      },
      "source": [
        "### Ejecución de un ciclo “for-if” sin otras declaraciones."
      ],
      "id": "0798eed1"
    },
    {
      "cell_type": "code",
      "metadata": {
        "id": "01948081",
        "outputId": "7ac216e0-a3f3-4b45-af03-72bd1e0aa13a"
      },
      "source": [
        "for p in range(0,5):\n",
        "    if p == 3:\n",
        "        print('aquí iría el 3')\n",
        "    print(p)    "
      ],
      "id": "01948081",
      "execution_count": null,
      "outputs": [
        {
          "name": "stdout",
          "output_type": "stream",
          "text": [
            "0\n",
            "1\n",
            "2\n",
            "aquí iría el 3\n",
            "3\n",
            "4\n"
          ]
        }
      ]
    },
    {
      "cell_type": "markdown",
      "metadata": {
        "id": "c82479b4"
      },
      "source": [
        "Con la declaración “break”, colocada dentro de la declaración “if” el ciclo se cancela una vez se ejecuta lo especificado cuando la variable p es igual a 3. "
      ],
      "id": "c82479b4"
    },
    {
      "cell_type": "markdown",
      "metadata": {
        "id": "2ace22a8"
      },
      "source": [
        "Se ve que `p` no toma el valor de 4 y no se imprime:"
      ],
      "id": "2ace22a8"
    },
    {
      "cell_type": "markdown",
      "metadata": {
        "id": "0d9c6dbd"
      },
      "source": [
        "### Uso de la declaración `break` en un ciclo “for”"
      ],
      "id": "0d9c6dbd"
    },
    {
      "cell_type": "code",
      "metadata": {
        "id": "9c290706",
        "outputId": "5b84dae6-a2b9-4c63-9b98-b3788890b8ad"
      },
      "source": [
        "for p in range(0,5):\n",
        "    if p == 3:\n",
        "        print('aquí iría el 3')\n",
        "        break\n",
        "    print(p)    "
      ],
      "id": "9c290706",
      "execution_count": null,
      "outputs": [
        {
          "name": "stdout",
          "output_type": "stream",
          "text": [
            "0\n",
            "1\n",
            "2\n",
            "aquí iría el 3\n"
          ]
        }
      ]
    },
    {
      "cell_type": "markdown",
      "metadata": {
        "id": "458fa6b5"
      },
      "source": [
        "Cuando se utiliza la declaración “continue”, se impide que se ejecuten las líneas siguientes \n",
        "de código para la iteración actual porque inmediatamente continúa con la siguiente \n",
        "iteración, por ello no se imprime en pantalla el número 3. "
      ],
      "id": "458fa6b5"
    },
    {
      "cell_type": "markdown",
      "metadata": {
        "id": "2bbdd768"
      },
      "source": [
        "Es útil para evitar que se ejecuten acciones en determinado instante de una iteración (Mueller, 2018, p. 156)."
      ],
      "id": "2bbdd768"
    },
    {
      "cell_type": "markdown",
      "metadata": {
        "id": "607530b4"
      },
      "source": [
        "### Uso de la declaración “continue” en un ciclo “for”."
      ],
      "id": "607530b4"
    },
    {
      "cell_type": "code",
      "metadata": {
        "id": "19adea84",
        "outputId": "bac4c721-0068-4ddc-8d31-f4128436a827"
      },
      "source": [
        "for p in range(0,5):\n",
        "    if p == 3:\n",
        "        print('aquí iría el 3')\n",
        "        continue \n",
        "    print(p)    "
      ],
      "id": "19adea84",
      "execution_count": null,
      "outputs": [
        {
          "name": "stdout",
          "output_type": "stream",
          "text": [
            "0\n",
            "1\n",
            "2\n",
            "aquí iría el 3\n",
            "4\n"
          ]
        }
      ]
    },
    {
      "cell_type": "markdown",
      "metadata": {
        "id": "7a802e64"
      },
      "source": [
        "## 1.8 Definición de funciones"
      ],
      "id": "7a802e64"
    },
    {
      "cell_type": "markdown",
      "metadata": {
        "id": "edd4ecf5"
      },
      "source": [
        "Las funciones son parte fundamental para crear algoritmos que simplifiquen tareas repetitivas. "
      ],
      "id": "edd4ecf5"
    },
    {
      "cell_type": "markdown",
      "metadata": {
        "id": "c1becca4"
      },
      "source": [
        "Una función depende de variables para crear un resultado específico. "
      ],
      "id": "c1becca4"
    },
    {
      "cell_type": "markdown",
      "metadata": {
        "id": "e5e35f8b"
      },
      "source": [
        "Las funciones en Python se crean escribiendo la declaración `def` seguido de un espacio."
      ],
      "id": "e5e35f8b"
    },
    {
      "cell_type": "markdown",
      "metadata": {
        "id": "bd6c7d70"
      },
      "source": [
        "Luego se escribe el nombre que se le desee dar a la función y junto a ésta se añade entre paréntesis los parámetros o variables de los que dependerá la función. "
      ],
      "id": "bd6c7d70"
    },
    {
      "cell_type": "markdown",
      "metadata": {
        "id": "0bb52f3c"
      },
      "source": [
        "Finalizando la línea se deben colocar dos puntos `:`. "
      ],
      "id": "0bb52f3c"
    },
    {
      "cell_type": "markdown",
      "metadata": {
        "id": "f1db8637"
      },
      "source": [
        "Posteriormente se pulsa `enter` y a partir de esa línea con **sangría** se digitarán todas las tareas que realizará la función."
      ],
      "id": "f1db8637"
    },
    {
      "cell_type": "markdown",
      "metadata": {
        "id": "627c0361"
      },
      "source": [
        "### Una función cuadrática evaluada en x=3."
      ],
      "id": "627c0361"
    },
    {
      "cell_type": "code",
      "metadata": {
        "id": "197e243b"
      },
      "source": [
        "def f(x):\n",
        "    return x**2+x+1"
      ],
      "id": "197e243b",
      "execution_count": null,
      "outputs": []
    },
    {
      "cell_type": "code",
      "metadata": {
        "id": "5394840b",
        "outputId": "eb35f03a-4396-4621-bc41-cabe091fcd1b"
      },
      "source": [
        "f(3)"
      ],
      "id": "5394840b",
      "execution_count": null,
      "outputs": [
        {
          "data": {
            "text/plain": [
              "13"
            ]
          },
          "execution_count": 12,
          "metadata": {},
          "output_type": "execute_result"
        }
      ]
    },
    {
      "cell_type": "code",
      "metadata": {
        "id": "c1e168b0"
      },
      "source": [
        ""
      ],
      "id": "c1e168b0",
      "execution_count": null,
      "outputs": []
    },
    {
      "cell_type": "code",
      "metadata": {
        "id": "292756be"
      },
      "source": [
        ""
      ],
      "id": "292756be",
      "execution_count": null,
      "outputs": []
    },
    {
      "cell_type": "code",
      "metadata": {
        "id": "a9d1c618"
      },
      "source": [
        ""
      ],
      "id": "a9d1c618",
      "execution_count": null,
      "outputs": []
    },
    {
      "cell_type": "markdown",
      "metadata": {
        "id": "314deb4c"
      },
      "source": [
        "## Referentes\n",
        "\n",
        "* Calderon"
      ],
      "id": "314deb4c"
    },
    {
      "cell_type": "code",
      "metadata": {
        "id": "9bc473f8"
      },
      "source": [
        ""
      ],
      "id": "9bc473f8",
      "execution_count": null,
      "outputs": []
    }
  ]
}