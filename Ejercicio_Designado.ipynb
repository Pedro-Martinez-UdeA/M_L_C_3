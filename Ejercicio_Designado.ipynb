{
  "nbformat": 4,
  "nbformat_minor": 0,
  "metadata": {
    "colab": {
      "name": "Ejercicio Designado ",
      "provenance": [],
      "authorship_tag": "ABX9TyNPqgI/tcWwfYVp7gTie82S",
      "include_colab_link": true
    },
    "kernelspec": {
      "name": "python3",
      "display_name": "Python 3"
    },
    "language_info": {
      "name": "python"
    }
  },
  "cells": [
    {
      "cell_type": "markdown",
      "metadata": {
        "id": "view-in-github",
        "colab_type": "text"
      },
      "source": [
        "<a href=\"https://colab.research.google.com/github/Pedro-Martinez-UdeA/M_L_C_3/blob/main/Ejercicio_Designado.ipynb\" target=\"_parent\"><img src=\"https://colab.research.google.com/assets/colab-badge.svg\" alt=\"Open In Colab\"/></a>"
      ]
    },
    {
      "cell_type": "markdown",
      "source": [
        "# 10 \n",
        "Construya una función que tenga como entrada a los coeficientes de la\n",
        "ecuación cuadrática\n",
        " **Ax2 + Bx + C =0 **\n",
        "y que tenga como salida las soluciones\n",
        "de la ecuación sean reales o no."
      ],
      "metadata": {
        "id": "Z7EYdvjT7CmY"
      }
    },
    {
      "cell_type": "code",
      "source": [
        "def Ec(A,B,C):    #Definimos la funcion en con los parametros; en este caso corresponden a los coeficientes de la Ecuacion Cuadratica [Ec]\n",
        "    D = (B**2)-4*A*C  #Por facilidad y evitar importar librerias los dirigimos al determinante de una solucion (B**2-4*A*C)\n",
        "    a = str(A)   # Defino unas variables a,b,c que tienen la funcion de transformar A,B,C (int) a (str); esto con fin de hacer visible le ecuacion \n",
        "    b = str(B)\n",
        "    c = str(C)\n",
        "    print(a +' X**2 + '+ b + ' X + '+ c) #la primera sentencia de la funcion sera mostrar como queda la ecuacion con los coeficientes ingresados\n",
        "    if D >= 0: #Defino el condicional,como no es necesario dar los valores de X facilito haciendo el calculo de D quien nos dira el dominio de las soluciones para X\n",
        "      return \"Soluciones de X seran Reales\" # sentencia del condicional nos dira con texto que el dominio de las soluciones de X\n",
        "    elif D <0: # segundo condicional, tambien funciona con 'else'\n",
        "      return \"Soluciones de X seran Imaginarios\"  \n",
        "    \n"
      ],
      "metadata": {
        "id": "oHUjFAQL_PGk"
      },
      "execution_count": 83,
      "outputs": []
    },
    {
      "cell_type": "code",
      "source": [
        "Ec(135,20,87) # Ejemplo donde los Valores de X son imaginarios"
      ],
      "metadata": {
        "colab": {
          "base_uri": "https://localhost:8080/",
          "height": 55
        },
        "id": "3Eyv7px8IkdV",
        "outputId": "ae25a06f-e0f7-4109-b5b3-2bd9ac4f67b1"
      },
      "execution_count": 84,
      "outputs": [
        {
          "output_type": "stream",
          "name": "stdout",
          "text": [
            "135 X**2 + 20 X + 87\n"
          ]
        },
        {
          "output_type": "execute_result",
          "data": {
            "application/vnd.google.colaboratory.intrinsic+json": {
              "type": "string"
            },
            "text/plain": [
              "'Soluciones de X seran Imaginarios'"
            ]
          },
          "metadata": {},
          "execution_count": 84
        }
      ]
    },
    {
      "cell_type": "code",
      "source": [
        "Ec(12,234,1) # Ejemplo donde valores de X son reales"
      ],
      "metadata": {
        "colab": {
          "base_uri": "https://localhost:8080/",
          "height": 55
        },
        "id": "eZhxnlm2Igrs",
        "outputId": "84874615-3b78-4d70-9db5-a9b1b47a1039"
      },
      "execution_count": 88,
      "outputs": [
        {
          "output_type": "stream",
          "name": "stdout",
          "text": [
            "12 X**2 + 234 X + 1\n"
          ]
        },
        {
          "output_type": "execute_result",
          "data": {
            "application/vnd.google.colaboratory.intrinsic+json": {
              "type": "string"
            },
            "text/plain": [
              "'Soluciones de X seran Reales'"
            ]
          },
          "metadata": {},
          "execution_count": 88
        }
      ]
    }
  ]
}